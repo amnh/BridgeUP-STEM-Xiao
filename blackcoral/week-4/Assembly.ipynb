{
 "cells": [
  {
   "cell_type": "markdown",
   "metadata": {},
   "source": [
    "# Week 4: Assembly\n",
    "### applying the lessons of Bikini Bottom"
   ]
  },
  {
   "cell_type": "code",
   "execution_count": 2,
   "metadata": {},
   "outputs": [],
   "source": [
    "import Bio\n",
    "from Bio.Seq import Seq"
   ]
  },
  {
   "cell_type": "markdown",
   "metadata": {},
   "source": [
    "Last session, we observed that 'genome' assembly is greatly aided by context -- while you could've scanned each sentence fragment for overlaps with all other fragments, things moved more quickly once you'd guessed at the content of the text. \n",
    "\n",
    "As we learn about assembly algorithms, we'll be moving into the realm of assembly sans context. "
   ]
  },
  {
   "cell_type": "markdown",
   "metadata": {},
   "source": [
    "Now, recall your thought process at the beginning of the mystery assembly activity. How would you describe it, in detail, to someone who hadn't experienced it for themselves? Write your instructions below: \n",
    "\n",
    "---your instructions below!---\n",
    "\n",
    "%\n",
    "%\n",
    "%\n",
    "%\n",
    "%"
   ]
  },
  {
   "cell_type": "markdown",
   "metadata": {},
   "source": [
    "We're going to break this (fairly large) problem into smaller parts. \n",
    "\n",
    "### Assembling two fragments\n",
    "\n",
    "The premise is simple -- given two fragments of DNA which may overlap with one another, how can you determine where/if they should align? We'll be implementing an algorithm that examines both segments, base by base. The rough outline of the algo is below, with the details left up to you!:\n",
    "\n",
    "* Identify the longer sequence. We'll call it **a**. The shorter sequence is **b**. \n",
    "* Initialize a counter **i** at the head of **a**. Does **a[i]** match the first character of **b**? \n",
    "* What should your code do if there is a match? If there isn't?\n",
    "* return a single, assembled contig\n",
    "* Rinse and repeat\n",
    "\n"
   ]
  },
  {
   "cell_type": "code",
   "execution_count": null,
   "metadata": {},
   "outputs": [],
   "source": [
    "def two_frags(input_file):\n",
    "    #your code here!\n",
    "    \n",
    "two_frags(file)"
   ]
  },
  {
   "cell_type": "markdown",
   "metadata": {},
   "source": [
    "### Assembling three fragments\n",
    "Now that you've got an algorithm that will align two fragments, think about how you can leverage this algo to solve a bigger problem -- aligning three fragments! Can you see any problems with this strategy for approaching the assembly problem? Why or why not? \n"
   ]
  },
  {
   "cell_type": "code",
   "execution_count": 1,
   "metadata": {},
   "outputs": [
    {
     "ename": "IndentationError",
     "evalue": "expected an indented block (<ipython-input-1-7790e2678255>, line 6)",
     "output_type": "error",
     "traceback": [
      "\u001b[0;36m  File \u001b[0;32m\"<ipython-input-1-7790e2678255>\"\u001b[0;36m, line \u001b[0;32m6\u001b[0m\n\u001b[0;31m    three_frags(file)\u001b[0m\n\u001b[0m              ^\u001b[0m\n\u001b[0;31mIndentationError\u001b[0m\u001b[0;31m:\u001b[0m expected an indented block\n"
     ]
    }
   ],
   "source": [
    "def three_frags(input_file):\n",
    "    #your code here!\n",
    "    \n",
    "three_frags(file)"
   ]
  },
  {
   "cell_type": "markdown",
   "metadata": {},
   "source": [
    "### Assembling _n_ fragments\n",
    "\n",
    "Can you scale what you've written to an assembly with _n_ distinct fragments? Why or why not? Hint: this exercise has been a lead-in to a larger lesson about writing effective code and algorithmic efficiency. "
   ]
  },
  {
   "cell_type": "code",
   "execution_count": null,
   "metadata": {},
   "outputs": [],
   "source": []
  }
 ],
 "metadata": {
  "kernelspec": {
   "display_name": "Python 2",
   "language": "python",
   "name": "python2"
  },
  "language_info": {
   "codemirror_mode": {
    "name": "ipython",
    "version": 2
   },
   "file_extension": ".py",
   "mimetype": "text/x-python",
   "name": "python",
   "nbconvert_exporter": "python",
   "pygments_lexer": "ipython2",
   "version": "2.7.15"
  }
 },
 "nbformat": 4,
 "nbformat_minor": 2
}
