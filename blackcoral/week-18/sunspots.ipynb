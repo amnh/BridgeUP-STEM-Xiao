{
 "cells": [
  {
   "cell_type": "markdown",
   "metadata": {},
   "source": [
    "## Week 18: Data visualization sandbox\n",
    "(adapted from jhemann's Jupyter notebook)\n",
    "\n",
    "We'll be doing some hands-on exploration of Python data viz capabilities via a fun mini-project on sunspots. We'll also be making use of Pandas dataframes!"
   ]
  },
  {
   "cell_type": "code",
   "execution_count": 5,
   "metadata": {},
   "outputs": [],
   "source": [
    "## a quick dataframes refresher:\n",
    "\n",
    "import random\n",
    "\n",
    "names = [\"Kelly\",\"Anum\",\"Sophia\",\"Angelica\",\"Lizbeth\", \"Helena\"]\n",
    "dessert = [\"pie\",\"cannoli\",\"cookie\",\"icecream\",\"cupcake\", \"creampuff\"]\n",
    "quantity = [10*random.randint(10,30) for _ in range(10)]\n",
    "\n",
    "def generate_random_person(names, surnames, salaries):\n",
    "    return {\"name\":random.sample(names,1)[0],\n",
    "            \"surname\":random.sample(dessert,1)[0],\n",
    "            \"salary\":random.sample(quantity,1)[0]}\n",
    "\n",
    "def generate_people(k):\n",
    "    return [generate_random_person(names, dessert, quantity) for _ in range(k)]"
   ]
  },
  {
   "cell_type": "markdown",
   "metadata": {},
   "source": [
    "Inspect the cell above -- what's happening? What do the generate_random_person() and generate_people() functions do?\n",
    "\n",
    "How would you generate a dataframe with 50 data points using both of these functions (hint: you might be interested in the documentation for the pd.Dataframe() function)? Jot down your thoughts and code below: "
   ]
  },
  {
   "cell_type": "code",
   "execution_count": 4,
   "metadata": {},
   "outputs": [],
   "source": [
    "## code for generating a dataframe of 50 random names, desserts, and quantities:\n",
    "\n",
    "\n"
   ]
  },
  {
   "cell_type": "markdown",
   "metadata": {},
   "source": [
    "Now, we can think about applying our knowledge of dataframes to some sunspot data! As you're working, think about how you might also use these techniques for visualizing our genomic data...\n",
    "\n",
    "First things first, let's load the sunspots data, which is easy to find (e.g. [from NOAA](ftp://ftp.ngdc.noaa.gov/STP/SOLAR_DATA/SUNSPOT_NUMBERS/)) and conveniently included in a popular Python package for doing statistical work... "
   ]
  },
  {
   "cell_type": "code",
   "execution_count": 6,
   "metadata": {},
   "outputs": [],
   "source": [
    "import statsmodels.api as sm\n",
    "import pandas as pd\n",
    "data_loader = sm.datasets.sunspots.load_pandas()\n",
    "df = data_loader.data"
   ]
  },
  {
   "cell_type": "markdown",
   "metadata": {},
   "source": [
    "`df` is shorthand for \"dataframe\", which we can think of as an Excel-like table of values. Dataframes have various methods that can be called to easily learn about the data contained in them, and we'll step through calling some of these methods. Below, we see that we have 309 pairs of (year, activity) to examine... "
   ]
  },
  {
   "cell_type": "code",
   "execution_count": 2,
   "metadata": {},
   "outputs": [
    {
     "data": {
      "text/plain": [
       "<class 'pandas.core.frame.DataFrame'>\n",
       "Int64Index: 309 entries, 0 to 308\n",
       "Data columns:\n",
       "YEAR           309  non-null values\n",
       "SUNACTIVITY    309  non-null values\n",
       "dtypes: float64(2)"
      ]
     },
     "execution_count": 2,
     "metadata": {},
     "output_type": "execute_result"
    }
   ],
   "source": [
    "df"
   ]
  },
  {
   "cell_type": "markdown",
   "metadata": {},
   "source": [
    "We can quickly inspect the first and last handful of values to get an idea of what the data look like..."
   ]
  },
  {
   "cell_type": "code",
   "execution_count": 3,
   "metadata": {},
   "outputs": [
    {
     "data": {
      "text/html": [
       "<div style=\"max-height:1000px;max-width:1500px;overflow:auto;\">\n",
       "<table border=\"1\" class=\"dataframe\">\n",
       "  <thead>\n",
       "    <tr style=\"text-align: right;\">\n",
       "      <th></th>\n",
       "      <th>YEAR</th>\n",
       "      <th>SUNACTIVITY</th>\n",
       "    </tr>\n",
       "  </thead>\n",
       "  <tbody>\n",
       "    <tr>\n",
       "      <td><strong>0</strong></td>\n",
       "      <td> 1700</td>\n",
       "      <td>  5</td>\n",
       "    </tr>\n",
       "    <tr>\n",
       "      <td><strong>1</strong></td>\n",
       "      <td> 1701</td>\n",
       "      <td> 11</td>\n",
       "    </tr>\n",
       "    <tr>\n",
       "      <td><strong>2</strong></td>\n",
       "      <td> 1702</td>\n",
       "      <td> 16</td>\n",
       "    </tr>\n",
       "    <tr>\n",
       "      <td><strong>3</strong></td>\n",
       "      <td> 1703</td>\n",
       "      <td> 23</td>\n",
       "    </tr>\n",
       "    <tr>\n",
       "      <td><strong>4</strong></td>\n",
       "      <td> 1704</td>\n",
       "      <td> 36</td>\n",
       "    </tr>\n",
       "  </tbody>\n",
       "</table>\n",
       "</div>"
      ],
      "text/plain": [
       "   YEAR  SUNACTIVITY\n",
       "0  1700            5\n",
       "1  1701           11\n",
       "2  1702           16\n",
       "3  1703           23\n",
       "4  1704           36"
      ]
     },
     "execution_count": 3,
     "metadata": {},
     "output_type": "execute_result"
    }
   ],
   "source": [
    "df.head()"
   ]
  },
  {
   "cell_type": "code",
   "execution_count": 4,
   "metadata": {},
   "outputs": [
    {
     "data": {
      "text/html": [
       "<div style=\"max-height:1000px;max-width:1500px;overflow:auto;\">\n",
       "<table border=\"1\" class=\"dataframe\">\n",
       "  <thead>\n",
       "    <tr style=\"text-align: right;\">\n",
       "      <th></th>\n",
       "      <th>YEAR</th>\n",
       "      <th>SUNACTIVITY</th>\n",
       "    </tr>\n",
       "  </thead>\n",
       "  <tbody>\n",
       "    <tr>\n",
       "      <td><strong>304</strong></td>\n",
       "      <td> 2004</td>\n",
       "      <td> 40.4</td>\n",
       "    </tr>\n",
       "    <tr>\n",
       "      <td><strong>305</strong></td>\n",
       "      <td> 2005</td>\n",
       "      <td> 29.8</td>\n",
       "    </tr>\n",
       "    <tr>\n",
       "      <td><strong>306</strong></td>\n",
       "      <td> 2006</td>\n",
       "      <td> 15.2</td>\n",
       "    </tr>\n",
       "    <tr>\n",
       "      <td><strong>307</strong></td>\n",
       "      <td> 2007</td>\n",
       "      <td>  7.5</td>\n",
       "    </tr>\n",
       "    <tr>\n",
       "      <td><strong>308</strong></td>\n",
       "      <td> 2008</td>\n",
       "      <td>  2.9</td>\n",
       "    </tr>\n",
       "  </tbody>\n",
       "</table>\n",
       "</div>"
      ],
      "text/plain": [
       "     YEAR  SUNACTIVITY\n",
       "304  2004         40.4\n",
       "305  2005         29.8\n",
       "306  2006         15.2\n",
       "307  2007          7.5\n",
       "308  2008          2.9"
      ]
     },
     "execution_count": 4,
     "metadata": {},
     "output_type": "execute_result"
    }
   ],
   "source": [
    "df.tail()"
   ]
  },
  {
   "cell_type": "markdown",
   "metadata": {},
   "source": [
    "OK, so the time series of annual values starts in 1700 and goes through 2008. Notice that we have fractional numbers in the more recent observations. This got me wondering when these fractional values started appearing..."
   ]
  },
  {
   "cell_type": "code",
   "execution_count": 5,
   "metadata": {},
   "outputs": [
    {
     "data": {
      "text/plain": [
       "49    0.9\n",
       "50    0.4\n",
       "51    0.7\n",
       "52    0.8\n",
       "53    0.7\n",
       "Name: SUNACTIVITY"
      ]
     },
     "execution_count": 5,
     "metadata": {},
     "output_type": "execute_result"
    }
   ],
   "source": [
    "fractional_nums = df['SUNACTIVITY'].apply(lambda x: x % 1) #Take the modulo of each value with 1 to get the fractional part\n",
    "fractional_nums[fractional_nums > 0].head()"
   ]
  },
  {
   "cell_type": "markdown",
   "metadata": {},
   "source": [
    "The first fractional value occurs in 1749. I looked into this a bit and (re)learned a few things:\n",
    "\n",
    "* Galileo first documented sunspots in the early 1600s, using his newly invented _telescope_\n",
    "* Reliable sunspot observations begin in about 1700\n",
    "* The fractional numbers are probably associated with data coming out of Zurich, Switzerland in 1749 onward\n",
    "* The methodology for tallying sunspot counts has evolved, most notably in 1848 with the introduction of the [Wolf number](http://en.wikipedia.org/wiki/Wolf_number) (which  is not simply an integer count)\n",
    "* There seems to be a [fair bit of debate](http://www.leif.org/research/IAUS286-Mendoza-Svalgaard.pdf) about how accurate the existing data are\n",
    "\n",
    "With some context in hand regarding the data generating process, let's get back to exploring the data. We can get a quick sense of the distribution of values...\n"
   ]
  },
  {
   "cell_type": "code",
   "execution_count": 6,
   "metadata": {},
   "outputs": [
    {
     "name": "stdout",
     "output_type": "stream",
     "text": [
      "count    309.000000\n",
      "mean      49.752104\n",
      "std       40.452595\n",
      "min        0.000000\n",
      "25%       16.000000\n",
      "50%       40.000000\n",
      "75%       69.800000\n",
      "max      190.200000\n"
     ]
    }
   ],
   "source": [
    "print df['SUNACTIVITY'].describe()"
   ]
  },
  {
   "cell_type": "markdown",
   "metadata": {},
   "source": [
    "...and of course, any time we report statistics we should try to provide an accompanying visualization (and vice versa)..."
   ]
  },
  {
   "cell_type": "code",
   "execution_count": 7,
   "metadata": {},
   "outputs": [],
   "source": [
    "## how might we plot this data? Hint: it'd be a good idea to look up some documentation for the df.plot() function!"
   ]
  },
  {
   "cell_type": "markdown",
   "metadata": {},
   "source": [
    "Is there a seasonal pattern in activity? If our aim was to fit a model to these data we would want to start looking at the autocorrelation and partial autocorrelation functions. In brief, correlation describes the strength of the relationship between two variables. For more information, check out this link: https://machinelearningmastery.com/gentle-introduction-autocorrelation-partial-autocorrelation/"
   ]
  },
  {
   "cell_type": "code",
   "execution_count": 8,
   "metadata": {},
   "outputs": [
    {
     "data": {
      "text/plain": [
       "<matplotlib.axes.AxesSubplot at 0xaf5e240>"
      ]
     },
     "execution_count": 8,
     "metadata": {},
     "output_type": "execute_result"
    },
    {
     "data": {
      "image/png": "[encoded data removed]"
     },
     "metadata": {},
     "output_type": "display_data"
    }
   ],
   "source": [
    "## do some research on the autocorrelation_plot() function in df! what do you find? code up a call to the \n",
    "## autocorrelation function on your sunspot data from the previous cell"
   ]
  },
  {
   "cell_type": "markdown",
   "metadata": {},
   "source": [
    "That the blue line goes beyond the horizontal grey lines indicates that this is a non-stationary time series with correlation structure. For my purposes here, I am not interested in fitting a model to the data. Instead, I just want to learn more about the length of the typical sunspot cycle. For this need it helps to view the time series' autocorrelation function in the _frequency_ domain instead of the temporal domain. So, we create an array of frequencies to evaluate the series over..."
   ]
  },
  {
   "cell_type": "code",
   "execution_count": 9,
   "metadata": {},
   "outputs": [],
   "source": [
    "import numpy as np\n",
    "N2 = df.shape[0] / 2\n",
    "freqs = np.linspace(0, 0.5, num=N2, endpoint=False)[1:] #Nyquist range"
   ]
  },
  {
   "cell_type": "markdown",
   "metadata": {},
   "source": [
    "...then, using these frequencies, plot the _periodogram_, which is the frequency domain analog of the autocorrelation plot above. Note that the [Lomb-Scargle method](http://en.wikipedia.org/wiki/Least-squares_spectral_analysis) used below assumes that the frequencies are not in a typical unit like Hertz (cycles per second) but rather as [angular frequencies](http://en.wikipedia.org/wiki/Angular_frequency), which is why we need to multiply the values by $2\\pi$. (The Lomb-Scargle method is flexible in that the time series need not be uniformly sampled.)"
   ]
  },
  {
   "cell_type": "code",
   "execution_count": 10,
   "metadata": {},
   "outputs": [
    {
     "data": {
      "text/plain": [
       "[<matplotlib.lines.Line2D at 0xafd97f0>]"
      ]
     },
     "execution_count": 10,
     "metadata": {},
     "output_type": "execute_result"
    },
    {
     "data": {
      "image/png": "[encoded data removed]"
     },
     "metadata": {},
     "output_type": "display_data"
    }
   ],
   "source": [
    "import scipy as sp\n",
    "periodogram = sp.signal.lombscargle(df['YEAR'], df['SUNACTIVITY'], freqs * 2 * np.pi)\n",
    "plt.plot(freqs, periodogram, color='green')"
   ]
  },
  {
   "cell_type": "markdown",
   "metadata": {},
   "source": [
    "We see a big spike in the power of the series at a frequency of just below 0.1. Recall that these are yearly observations, so we can divide this frequency into 1 to get the period of each cycle..."
   ]
  },
  {
   "cell_type": "code",
   "execution_count": 11,
   "metadata": {},
   "outputs": [
    {
     "name": "stdout",
     "output_type": "stream",
     "text": [
      "Frequency and corresponding time in years at max power: 0.09, 11.0\n"
     ]
    }
   ],
   "source": [
    "freq_index_at_max_power = np.argmax(periodogram)\n",
    "print 'Frequency and corresponding time in years at max power: %.2f, %.1f' % (freqs[freq_index_at_max_power], 1 / freqs[freq_index_at_max_power])"
   ]
  },
  {
   "cell_type": "markdown",
   "metadata": {},
   "source": [
    "The major cycle is about 11 years, which is what the literature states. So, we could have skipped this previous step entirely and just assumed the data had an 11 year cycle like the literature said, but it is always good to sanity check what you are working with, and of course, in many settings one does not already know such things, hence the need for exploration.\n",
    "\n",
    "At this point, after a handful of lines of code and some internet searches we have a basic handle on:\n",
    "\n",
    "* The data generating process\n",
    "* Distributional information\n",
    "* Temporal behavior"
   ]
  },
  {
   "cell_type": "markdown",
   "metadata": {},
   "source": [
    "Can you think of other ways to display this data? We used the default .plot() function, which gave us a line graph. How would you go about making a scatterplot? A histogram with frequencies? How could you bin your datapoints into buckets? "
   ]
  },
  {
   "cell_type": "code",
   "execution_count": 12,
   "metadata": {},
   "outputs": [],
   "source": []
  },
  {
   "cell_type": "markdown",
   "metadata": {},
   "source": [
    "##References\n",
    "\n",
    "[1] _The Elements of Graphing Data_, William S. Cleveland, Hobart Press, Summit, New Jersey, 1994\n",
    "    ISBN: 0-9634884-1-4     \n",
    "[2] _IPython: A System for Interactive Scientific Computing_, Fernando Pérez, Brian E. Granger, Computing in Science and Engineering, vol. 9, no. 3, pp. 21-29, May/June 2007, doi:10.1109/MCSE.2007.53. URL: http://ipython.org"
   ]
  },
  {
   "cell_type": "markdown",
   "metadata": {},
   "source": []
  }
 ],
 "metadata": {
  "kernelspec": {
   "display_name": "Python 3",
   "language": "python",
   "name": "python3"
  },
  "language_info": {
   "codemirror_mode": {
    "name": "ipython",
    "version": 3
   },
   "file_extension": ".py",
   "mimetype": "text/x-python",
   "name": "python",
   "nbconvert_exporter": "python",
   "pygments_lexer": "ipython3",
   "version": "3.6.5"
  }
 },
 "nbformat": 4,
 "nbformat_minor": 1
}
