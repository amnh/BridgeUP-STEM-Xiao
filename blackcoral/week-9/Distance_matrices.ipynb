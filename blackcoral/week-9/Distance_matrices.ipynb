{
 "cells": [
  {
   "cell_type": "markdown",
   "metadata": {},
   "source": [
    "# Week 9: Distance Matrices\n",
    "\n",
    "### Neo's favorite pasttime"
   ]
  },
  {
   "cell_type": "markdown",
   "metadata": {},
   "source": [
    "Distance matrices are the last step before we build our phylogenetic trees (how exciting is that?!). Happily for us, these unique data structures present us with ample opportunity for learning about a new Python data type -- the nested list and the NumPy array! "
   ]
  },
  {
   "cell_type": "markdown",
   "metadata": {},
   "source": [
    "Think about how you'd index through a list. Can you use this notation to index through a two-dimensional data structure? Why or why not? If so, how (and no peeking!)? \n"
   ]
  },
  {
   "cell_type": "code",
   "execution_count": null,
   "metadata": {},
   "outputs": [],
   "source": [
    "##your thoughts here!"
   ]
  },
  {
   "cell_type": "markdown",
   "metadata": {},
   "source": [
    "Turns out we don't need to limit ourselves to a single set of square brackets! Populate the list __neo__ below, then try to call some of __neo__'s elements. How would you go about doing so? "
   ]
  },
  {
   "cell_type": "code",
   "execution_count": 6,
   "metadata": {},
   "outputs": [],
   "source": [
    "neo = [[],[],[]] ##populate this list\n",
    "\n",
    "##now, call some elements of neo. What do you find?"
   ]
  },
  {
   "cell_type": "markdown",
   "metadata": {},
   "source": [
    "This is all well and good, but a two-dimensional list in Python still isn't a Numpy array, which is what we'll be using for our distance matrix function. "
   ]
  },
  {
   "cell_type": "markdown",
   "metadata": {},
   "source": [
    "Remember to import Numpy before using its functions:"
   ]
  },
  {
   "cell_type": "code",
   "execution_count": null,
   "metadata": {},
   "outputs": [],
   "source": [
    "import numpy as np"
   ]
  },
  {
   "cell_type": "markdown",
   "metadata": {},
   "source": [
    "Now, here's your challenge. I'd like you to code up your distance matrix-creation function. Your function should accept as input a single FASTA file, which your function will read in. Your function should then calculate the pairwise distances between each unique pair of sequences. \n",
    "\n",
    "If this seems daunting, fear not! You've already completed a key part of this function -- you know how to write a function that measures sequence similarity. It's up to you to use this information to make your job easier.\n",
    "\n",
    "Here's another hint: to create and specify the size of a numpy array, you can use the functions __numpy.zeros__, __numpy.ones__, and __numpy.empty__. (Can you guess what, in precise terms, these functions do?)"
   ]
  },
  {
   "cell_type": "code",
   "execution_count": 7,
   "metadata": {},
   "outputs": [
    {
     "ename": "IndentationError",
     "evalue": "expected an indented block (<ipython-input-7-670279f27b3c>, line 5)",
     "output_type": "error",
     "traceback": [
      "\u001b[0;36m  File \u001b[0;32m\"<ipython-input-7-670279f27b3c>\"\u001b[0;36m, line \u001b[0;32m5\u001b[0m\n\u001b[0;31m    dist_matrix(input_fasta)\u001b[0m\n\u001b[0m              ^\u001b[0m\n\u001b[0;31mIndentationError\u001b[0m\u001b[0;31m:\u001b[0m expected an indented block\n"
     ]
    }
   ],
   "source": [
    "def dist_matrix(input):\n",
    "    #your code here!\n",
    "    \n",
    "    \n",
    "dist_matrix(input_fasta)"
   ]
  }
 ],
 "metadata": {
  "kernelspec": {
   "display_name": "Python 3",
   "language": "python",
   "name": "python3"
  },
  "language_info": {
   "codemirror_mode": {
    "name": "ipython",
    "version": 3
   },
   "file_extension": ".py",
   "mimetype": "text/x-python",
   "name": "python",
   "nbconvert_exporter": "python",
   "pygments_lexer": "ipython3",
   "version": "3.6.5"
  }
 },
 "nbformat": 4,
 "nbformat_minor": 2
}
