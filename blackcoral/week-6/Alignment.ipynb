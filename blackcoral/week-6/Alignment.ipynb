{
 "cells": [
  {
   "cell_type": "markdown",
   "metadata": {},
   "source": [
    "# Week 6: When Nucleotides Align\n",
    "### getting your ATCGs in a row..."
   ]
  },
  {
   "cell_type": "markdown",
   "metadata": {},
   "source": [
    "Last week, we wrote our own functions to assemble nucleotides into contiguous segments (imaginatively called 'contigs' by the biology community). But once we've got our scaffold (the whole genome assembly) built, where next? \n",
    "\n",
    "Since we're interested in exploring the relationships that exist between different species of black coral and anemone, you'd think that we'd want to compare species scaffolds to one another -- and you'd be exactly right. \n",
    "\n",
    "The BLAST algorithm in Genbank can do this for us -- we feed the database our sequence, and it churns out a list of 'hits,' or those reference sequences in its records that most closely align with the input seq. Lucky for us, Biopython can talk to Genbank and perform this alignment from within Python! Read on...\n"
   ]
  },
  {
   "cell_type": "code",
   "execution_count": 4,
   "metadata": {},
   "outputs": [
    {
     "name": "stdout",
     "output_type": "stream",
     "text": [
      "Help on function qblast in module Bio.Blast.NCBIWWW:\n",
      "\n",
      "qblast(program, database, sequence, url_base='https://blast.ncbi.nlm.nih.gov/Blast.cgi', auto_format=None, composition_based_statistics=None, db_genetic_code=None, endpoints=None, entrez_query='(none)', expect=10.0, filter=None, gapcosts=None, genetic_code=None, hitlist_size=50, i_thresh=None, layout=None, lcase_mask=None, matrix_name=None, nucl_penalty=None, nucl_reward=None, other_advanced=None, perc_ident=None, phi_pattern=None, query_file=None, query_believe_defline=None, query_from=None, query_to=None, searchsp_eff=None, service=None, threshold=None, ungapped_alignment=None, word_size=None, alignments=500, alignment_view=None, descriptions=500, entrez_links_new_window=None, expect_low=None, expect_high=None, format_entrez_query=None, format_object=None, format_type='XML', ncbi_gi=None, results_file=None, show_overview=None, megablast=None, template_type=None, template_length=None)\n",
      "    BLAST search using NCBI's QBLAST server or a cloud service provider.\n",
      "    \n",
      "    Supports all parameters of the qblast API for Put and Get.\n",
      "    \n",
      "    Please note that BLAST on the cloud supports the NCBI-BLAST Common\n",
      "    URL API (http://ncbi.github.io/blast-cloud/dev/api.html). To\n",
      "    use this feature, please set url_base to\n",
      "    'http://host.my.cloud.service.provider.com/cgi-bin/blast.cgi' and\n",
      "    format_object='Alignment'. For more details, please see\n",
      "    https://blast.ncbi.nlm.nih.gov/Blast.cgi?PAGE_TYPE=BlastDocs&DOC_TYPE=CloudBlast\n",
      "    \n",
      "    Some useful parameters:\n",
      "    \n",
      "     - program        blastn, blastp, blastx, tblastn, or tblastx (lower case)\n",
      "     - database       Which database to search against (e.g. \"nr\").\n",
      "     - sequence       The sequence to search.\n",
      "     - ncbi_gi        TRUE/FALSE whether to give 'gi' identifier.\n",
      "     - descriptions   Number of descriptions to show.  Def 500.\n",
      "     - alignments     Number of alignments to show.  Def 500.\n",
      "     - expect         An expect value cutoff.  Def 10.0.\n",
      "     - matrix_name    Specify an alt. matrix (PAM30, PAM70, BLOSUM80, BLOSUM45).\n",
      "     - filter         \"none\" turns off filtering.  Default no filtering\n",
      "     - format_type    \"HTML\", \"Text\", \"ASN.1\", or \"XML\".  Def. \"XML\".\n",
      "     - entrez_query   Entrez query to limit Blast search\n",
      "     - hitlist_size   Number of hits to return. Default 50\n",
      "     - megablast      TRUE/FALSE whether to use MEga BLAST algorithm (blastn only)\n",
      "     - service        plain, psi, phi, rpsblast, megablast (lower case)\n",
      "    \n",
      "    This function does no checking of the validity of the parameters\n",
      "    and passes the values to the server as is.  More help is available at:\n",
      "    https://ncbi.github.io/blast-cloud/dev/api.html\n",
      "\n"
     ]
    }
   ],
   "source": [
    "## remember to run this cell -- note the new module we're working with!\n",
    "from Bio.Blast import NCBIWWW\n",
    "help(NCBIWWW.qblast)"
   ]
  },
  {
   "cell_type": "markdown",
   "metadata": {},
   "source": [
    "We can give BLAST a FASTA file, which we'll have to read in first: "
   ]
  },
  {
   "cell_type": "code",
   "execution_count": 5,
   "metadata": {},
   "outputs": [],
   "source": [
    "fasta_string = open(\"test.fasta\").read()\n",
    "result_handle = NCBIWWW.qblast(\"blastn\", \"nt\", fasta_string)\n"
   ]
  },
  {
   "cell_type": "markdown",
   "metadata": {},
   "source": [
    "Remember the record object in Biopython? We can also read in our file as a record object, as follows: "
   ]
  },
  {
   "cell_type": "code",
   "execution_count": null,
   "metadata": {},
   "outputs": [],
   "source": [
    "from Bio import SeqIO # <- important to import! \n",
    "\n",
    "record = SeqIO.read(\"test.fasta\", format=\"fasta\")\n",
    "result_handle = NCBIWWW.qblast(\"blastn\", \"nt\", record.seq)\n",
    "print(record)"
   ]
  },
  {
   "cell_type": "markdown",
   "metadata": {},
   "source": [
    "Notice what happens when you attempt to print your record_handle variable. What's going on here? In order to read your BLAST output, you'll need to save it to an output file, as follows: \n"
   ]
  },
  {
   "cell_type": "code",
   "execution_count": null,
   "metadata": {},
   "outputs": [],
   "source": [
    "with open(\"my_blast.xml\", \"w\") as save_to:\n",
    "    save_to.write(result_handle.read())\n",
    "    result_handle.close()\n"
   ]
  },
  {
   "cell_type": "markdown",
   "metadata": {},
   "source": [
    "When Python has finished writing your 'my_blast.xml' file, open it up and take a look -- what do you see? According to the file, what organism did the DNA in the test file come from? Another, more elegant way to read your XML file is below: "
   ]
  },
  {
   "cell_type": "code",
   "execution_count": 3,
   "metadata": {},
   "outputs": [
    {
     "ename": "NameError",
     "evalue": "name 'result_handle' is not defined",
     "output_type": "error",
     "traceback": [
      "\u001b[0;31m---------------------------------------------------------------------------\u001b[0m",
      "\u001b[0;31mNameError\u001b[0m                                 Traceback (most recent call last)",
      "\u001b[0;32m<ipython-input-3-31fe3a7848d3>\u001b[0m in \u001b[0;36m<module>\u001b[0;34m()\u001b[0m\n\u001b[1;32m      1\u001b[0m \u001b[0;32mfrom\u001b[0m \u001b[0mBio\u001b[0m\u001b[0;34m.\u001b[0m\u001b[0mBlast\u001b[0m \u001b[0;32mimport\u001b[0m \u001b[0mNCBIXML\u001b[0m\u001b[0;34m\u001b[0m\u001b[0m\n\u001b[0;32m----> 2\u001b[0;31m \u001b[0mblast_record\u001b[0m \u001b[0;34m=\u001b[0m \u001b[0mNCBIXML\u001b[0m\u001b[0;34m.\u001b[0m\u001b[0mread\u001b[0m\u001b[0;34m(\u001b[0m\u001b[0mresult_handle\u001b[0m\u001b[0;34m)\u001b[0m\u001b[0;34m\u001b[0m\u001b[0m\n\u001b[0m\u001b[1;32m      3\u001b[0m \u001b[0mprint\u001b[0m\u001b[0;34m(\u001b[0m\u001b[0mblast_record\u001b[0m\u001b[0;34m)\u001b[0m\u001b[0;34m\u001b[0m\u001b[0m\n\u001b[1;32m      4\u001b[0m \u001b[0;34m\u001b[0m\u001b[0m\n\u001b[1;32m      5\u001b[0m \u001b[0;31m### for filtering results by similarity score\u001b[0m\u001b[0;34m\u001b[0m\u001b[0;34m\u001b[0m\u001b[0m\n",
      "\u001b[0;31mNameError\u001b[0m: name 'result_handle' is not defined"
     ]
    }
   ],
   "source": [
    "from Bio.Blast import NCBIXML\n",
    "blast_record = NCBIXML.read(result_handle)\n",
    "print(blast_record)\n",
    "\n",
    "### for filtering results by similarity score\n",
    "E_VALUE_THRESH = 0.04\n",
    "\n",
    "for alignment in blast_record.alignments:\n",
    "     for hsp in alignment.hsps:\n",
    "         if hsp.expect < E_VALUE_THRESH:\n",
    "             print(\"****Alignment****\")\n",
    "             print(\"sequence:\", alignment.title)\n",
    "             print(\"length:\", alignment.length)\n",
    "             print(\"e value:\", hsp.expect)\n",
    "             print(hsp.query[0:75] + \"...\")\n",
    "             print(hsp.match[0:75] + \"...\")\n",
    "             print(hsp.sbjct[0:75] + \"...\")\n"
   ]
  },
  {
   "cell_type": "markdown",
   "metadata": {},
   "source": [
    "### your turn...\n",
    "Now, navigate to the directory in which this Jupyter Notebook is kept. Do you see three FASTA files? You'll choose one of these three files to work with today. At the moment, we don't know what coral each sequence comes from. Your job is to use Genbank and BLAST to identify these mystery corals..."
   ]
  },
  {
   "cell_type": "code",
   "execution_count": null,
   "metadata": {},
   "outputs": [],
   "source": [
    "# in the space below, read the FASTA file of your choosing and run a blast search!\n",
    "\n",
    "# your code below!\n",
    "#"
   ]
  },
  {
   "cell_type": "markdown",
   "metadata": {},
   "source": [
    "Which coral did you identify?: "
   ]
  },
  {
   "cell_type": "markdown",
   "metadata": {},
   "source": []
  }
 ],
 "metadata": {
  "kernelspec": {
   "display_name": "Python 3",
   "language": "python",
   "name": "python3"
  },
  "language_info": {
   "codemirror_mode": {
    "name": "ipython",
    "version": 3
   },
   "file_extension": ".py",
   "mimetype": "text/x-python",
   "name": "python",
   "nbconvert_exporter": "python",
   "pygments_lexer": "ipython3",
   "version": "3.6.5"
  }
 },
 "nbformat": 4,
 "nbformat_minor": 2
}
