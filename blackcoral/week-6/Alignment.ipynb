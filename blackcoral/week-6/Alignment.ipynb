{
 "cells": [
  {
   "cell_type": "markdown",
   "metadata": {},
   "source": [
    "# Week 6: When Nucleotides Align\n",
    "### getting your ATCGs in a row..."
   ]
  },
  {
   "cell_type": "markdown",
   "metadata": {},
   "source": [
    "Last week, we wrote our own functions to assemble nucleotides into contiguous segments (imaginatively called 'contigs' by the biology community). But once we've got our scaffold (the whole genome assembly) built, where next? \n",
    "\n",
    "Since we're interested in exploring the relationships that exist between different species of black coral and anemone, you'd think that we'd want to compare species scaffolds to one another -- and you'd be exactly right. \n",
    "\n",
    "The BLAST algorithm in Genbank can do this for us -- we feed the database our sequence, and it churns out a list of 'hits,' or those reference sequences in its records that most closely align with the input seq. Lucky for us, Biopython can talk to Genbank and perform this alignment from within Python! Read on...\n"
   ]
  },
  {
   "cell_type": "code",
   "execution_count": null,
   "metadata": {},
   "outputs": [],
   "source": [
    "## remember to run this cell -- note the new module we're working with!\n",
    "from Bio.Blast import NCBIWWW\n",
    "help(NCBIWWW.qblast)"
   ]
  },
  {
   "cell_type": "markdown",
   "metadata": {},
   "source": [
    "We can give BLAST a FASTA file, which we'll have to read in first: "
   ]
  },
  {
   "cell_type": "code",
   "execution_count": null,
   "metadata": {},
   "outputs": [],
   "source": [
    "fasta_string = open(\"test.fasta\").read()\n",
    "result_handle = NCBIWWW.qblast(\"blastn\", \"nt\", fasta_string)\n"
   ]
  },
  {
   "cell_type": "markdown",
   "metadata": {},
   "source": [
    "Remember the record object in Biopython? We can also read in our file as a record object, as follows: "
   ]
  },
  {
   "cell_type": "code",
   "execution_count": null,
   "metadata": {},
   "outputs": [],
   "source": [
    "from Bio import SeqIO # <- important to import! \n",
    "\n",
    "record = SeqIO.read(\"your_data_file.fasta\", format=\"fasta\")\n",
    "result_handle = NCBIWWW.qblast(\"blastn\", \"nt\", record.seq)\n",
    "print(record)"
   ]
  },
  {
   "cell_type": "markdown",
   "metadata": {},
   "source": [
    "Notice what happens when you attempt to print your record_handle variable. What's going on here? In order to read your BLAST output, you'll need to save it to an output file, as follows: \n"
   ]
  },
  {
   "cell_type": "code",
   "execution_count": null,
   "metadata": {},
   "outputs": [],
   "source": [
    "with open(\"my_blast.xml\", \"w\") as save_to:\n",
    "    save_to.write(result_handle.read())\n",
    "    result_handle.close()\n"
   ]
  },
  {
   "cell_type": "markdown",
   "metadata": {},
   "source": [
    "When Python has finished writing your 'my_blast.xml' file, open it up and take a look -- what do you see? According to the file, what organism did the DNA in the test file come from? "
   ]
  },
  {
   "cell_type": "markdown",
   "metadata": {},
   "source": [
    "### your turn...\n",
    "Now, navigate to the directory in which this Jupyter Notebook is kept. Do you see three FASTA files? You'll choose one of these three files to work with today. At the moment, we don't know what coral each sequence comes from. Your job is to use Genbank and BLAST to identify these mystery corals..."
   ]
  },
  {
   "cell_type": "code",
   "execution_count": null,
   "metadata": {},
   "outputs": [],
   "source": [
    "# in the space below, read the FASTA file of your choosing and run a blast search!\n",
    "\n",
    "# your code below!\n",
    "#"
   ]
  },
  {
   "cell_type": "markdown",
   "metadata": {},
   "source": [
    "Which coral did you identify?: "
   ]
  },
  {
   "cell_type": "markdown",
   "metadata": {},
   "source": []
  }
 ],
 "metadata": {
  "kernelspec": {
   "display_name": "Python 3",
   "language": "python",
   "name": "python3"
  },
  "language_info": {
   "codemirror_mode": {
    "name": "ipython",
    "version": 3
   },
   "file_extension": ".py",
   "mimetype": "text/x-python",
   "name": "python",
   "nbconvert_exporter": "python",
   "pygments_lexer": "ipython3",
   "version": "3.6.5"
  }
 },
 "nbformat": 4,
 "nbformat_minor": 2
}
