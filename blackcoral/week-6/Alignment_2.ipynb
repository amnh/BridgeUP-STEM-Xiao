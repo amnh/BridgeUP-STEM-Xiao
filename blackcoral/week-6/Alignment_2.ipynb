{
 "cells": [
  {
   "cell_type": "markdown",
   "metadata": {},
   "source": [
    "# Week 6: When Nucleotides Align, cont'd\n",
    "### getting your ATCGs in a row..."
   ]
  },
  {
   "cell_type": "markdown",
   "metadata": {},
   "source": [
    "In our previous notebook, we tried our hand at some BLAST searches for known coral species. Now, it's time to test our mettle in unknown waters (ha!). Explore your current directory (should be the one that this file is located in). You'll see six 'mystery' FASTA files, each of which corresponds to the genomic data from an organism that isn't currently in GenBank. In your pairs, you'll be doing the following:\n",
    "\n",
    "- running a BLAST search on two of these FASTA files and identifying the top two hits for both\n",
    "- recalling and writing your sequence comparison algorithms for nucleotide sequences\n",
    "\n",
    "As a group, we'll do the following:\n",
    "- use a sequence alignment program, Clustal Omega, to align our six mystery specimens\n",
    "- use your sequence comparison algorithm to create a __distance matrix__ for the six mystery specimens\n",
    "- plug our distance matrices into a tree-building program and start visualizing a phylogenetic tree for our six specimens!"
   ]
  },
  {
   "cell_type": "markdown",
   "metadata": {},
   "source": [
    "### running a BLAST search (in your pairs!)\n",
    "\n",
    "Run a BLAST search on the two mystery specimen files you've been given. What organisms do they most closely resemble? What gene? (i.e., what is the top hit for both?) Use the code cell below and record your results here (in an XML file -- remember how to generate this?).\n",
    "\n",
    "Mystery organism 1:\n",
    "\n",
    "Mystery organism 2:\n"
   ]
  },
  {
   "cell_type": "code",
   "execution_count": null,
   "metadata": {},
   "outputs": [],
   "source": [
    "##your code here! "
   ]
  },
  {
   "cell_type": "markdown",
   "metadata": {},
   "source": [
    "### getting our ATCGs in a row (literally!)\n",
    "\n",
    "Now that we know the identity of our specimens, we can think about how we'll go about comparing them to one another. We've aligned our specimens against the GenBank database; now, in order to make sure we're working with the same region of DNA in each assembly, we'll align our sequences against one another. To do this, we'll be using a __multiple sequence alignment__ program, [Clustal Omega](https://www.ebi.ac.uk/Tools/msa/clustalo/)."
   ]
  },
  {
   "cell_type": "markdown",
   "metadata": {},
   "source": [
    "Once you've downloaded the clustal alignment, you'll want to convert it to FASTA format. We can do this within BioPython! "
   ]
  },
  {
   "cell_type": "code",
   "execution_count": null,
   "metadata": {},
   "outputs": [],
   "source": [
    "# update file names and formats!\n",
    "from Bio import SeqIO\n",
    "\n",
    "with open(\"input_file.clustal_num\", \"r\") as input_handle:\n",
    "    with open(\"output_file.fasta\", \"w\") as output_handle:\n",
    "        sequences = SeqIO.parse(input_handle, \"format_a\")\n",
    "        count = SeqIO.write(sequences, output_handle, \"format_b\")\n",
    "\n",
    "print(\"Converted %i records\" % count)"
   ]
  },
  {
   "cell_type": "code",
   "execution_count": null,
   "metadata": {},
   "outputs": [],
   "source": []
  }
 ],
 "metadata": {
  "kernelspec": {
   "display_name": "Python 3",
   "language": "python",
   "name": "python3"
  },
  "language_info": {
   "codemirror_mode": {
    "name": "ipython",
    "version": 3
   },
   "file_extension": ".py",
   "mimetype": "text/x-python",
   "name": "python",
   "nbconvert_exporter": "python",
   "pygments_lexer": "ipython3",
   "version": "3.6.5"
  }
 },
 "nbformat": 4,
 "nbformat_minor": 2
}
