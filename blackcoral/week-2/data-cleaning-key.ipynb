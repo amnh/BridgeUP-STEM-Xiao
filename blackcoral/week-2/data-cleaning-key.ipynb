{
 "cells": [
  {
   "cell_type": "markdown",
   "metadata": {},
   "source": [
    "# Week 2: Data Cleaning & Detective Work\n",
    "\n",
    "### #coralcrew > Holmes + Watson"
   ]
  },
  {
   "cell_type": "code",
   "execution_count": 2,
   "metadata": {},
   "outputs": [],
   "source": [
    "import Bio\n",
    "from Bio.Seq import Seq"
   ]
  },
  {
   "cell_type": "markdown",
   "metadata": {},
   "source": [
    "You've just seen some common data errors -- anomalies in raw data that might trip up the data analysis process. Luckily, there are many ways to correct for these errors. We'll be designing solutions to the errors we encountered during our detection exercise. \n",
    "\n",
    "We'll be prototyping our detection functions with random-generated nucleotide sequences, then giving them a test run with some nucleotide from _Acanthopathes thyoides_, a black coral that I've been studying. Eventually, our data-cleaning processes will become a part of a larger pipeline we'll implement to take our data from its raw form to graphics and analysis. \n",
    "\n",
    "### to recap, some common errors in raw data: \n",
    "\n",
    "* Missing nucleotide bases\n",
    "\n",
    "* Bizarre IUPAC codes\n",
    "\n",
    "* Stop codon in middle of sequence\n",
    "\n",
    "* Sequence length not a multiple of 3\n",
    "\n",
    "* Low complexity region\n",
    " "
   ]
  },
  {
   "cell_type": "markdown",
   "metadata": {},
   "source": [
    "### Missing nucleotide bases\n",
    "Blank spaces aren't going to tell us anything useful about our genome -- except, maybe, that our sequencer wasn't able to read some portion of our specimen. We'll be writing a function that recognizes these blank spaces and alerts us to their presence and location. "
   ]
  },
  {
   "cell_type": "code",
   "execution_count": 4,
   "metadata": {},
   "outputs": [
    {
     "name": "stdout",
     "output_type": "stream",
     "text": [
      "Blank detected at 6\n",
      "Blank detected at 10\n",
      "Blank detected at 11\n"
     ]
    }
   ],
   "source": [
    "my_seq = Seq('ATGCTA-GTN--TAG') #feel free to change this sequence as needed!\n",
    "\n",
    "\n",
    "def missing_seq(input_seq):\n",
    "    # your code below!\n",
    "    for index, letter in enumerate(input_seq):\n",
    "        if letter == '-':\n",
    "            print('Blank detected at ' + str(index))\n",
    "    \n",
    "missing_seq(my_seq)    "
   ]
  },
  {
   "cell_type": "code",
   "execution_count": 20,
   "metadata": {},
   "outputs": [
    {
     "data": {
      "text/html": [
       "<style>\n",
       "table {float:left}\n",
       "</style>"
      ],
      "text/plain": [
       "<IPython.core.display.HTML object>"
      ]
     },
     "metadata": {},
     "output_type": "display_data"
    }
   ],
   "source": [
    "%%html\n",
    "<style>\n",
    "table {float:left}\n",
    "</style>"
   ]
  },
  {
   "cell_type": "markdown",
   "metadata": {},
   "source": [
    "### Bizarre IUPAC codes\n",
    "\n",
    "| IUPAC nucleotide code | Base |\n",
    "| :--- | :--- | :--- |\n",
    "| A | Adenosine |\n",
    "| T | Thymine |\n",
    "| C | Cytosine |\n",
    "| G | Guanine |\n",
    "| R\t| A or G |\n",
    "| Y\t| C or T |\n",
    "| S\t| G or C |\n",
    "| W\t| A or T |\n",
    "| K\t| G or T |\n",
    "| M\t| A or C |\n",
    "| B\t| C or G or T |\n",
    "| D\t| A or G or T |\n",
    "| H\t| A or C or T |\n",
    "| V\t| A or C or G |\n",
    "| N\t| any base |\n",
    "| . or - | gap |\n"
   ]
  },
  {
   "cell_type": "markdown",
   "metadata": {},
   "source": [
    "### Stop codon in middle of sequence\n",
    "\n",
    "Uh oh -- what does an early stop mean? There are a number of reasons for such a detection: \n",
    "\n",
    "* We're not starting our translation at the right base pair\n",
    "* We've included extraneous bases in our sequence, and the gene does, in fact, terminate before the end of our sequence\n",
    "\n",
    "Give yourself a random string to experiment on -- say, ATCTAAGTACTAGCT -- and see if you can code up a function that will return an error message when it encounters the strings 'TAG' or 'TAA.'"
   ]
  },
  {
   "cell_type": "code",
   "execution_count": 18,
   "metadata": {},
   "outputs": [
    {
     "name": "stdout",
     "output_type": "stream",
     "text": [
      "Premature stop codon detected at base pair 4\n"
     ]
    }
   ],
   "source": [
    "my_seq = Seq('ATCTAAGTACTAGCT')\n",
    "\n",
    "def check_stop(input_seq):\n",
    "    for i in range(0, len(my_seq)):\n",
    "        if input_seq[i:i+3] == 'TAA' or input_seq[i:i+3] == 'TAG' and i < len(input_seq)-3 and i %3 == 0:\n",
    "            print('Premature stop codon detected at base pair ' + str(i+1))\n",
    "\n",
    "check_stop(my_seq)"
   ]
  },
  {
   "cell_type": "markdown",
   "metadata": {},
   "source": [
    "### Sequence length not a multiple of 3\n",
    "\n",
    "Remember that error Biopython threw when you attempted to translate a nucleotide sequence whose length wasn't a multiple of 3? It did return a limited number of amino acid bases, but then stopped when it fell off the end of the sequence. Below, write a function that 1) alerts us when our sequence length is not a multiple of three, and 2) pads the ends of such sequences with hyphens ('-') such that the length of the string + hyphens is now a multiple of three. e.g.: 'ATGA' has length four; your function should throw an error and return the string 'ATGA--,' which has length 6. "
   ]
  },
  {
   "cell_type": "code",
   "execution_count": 6,
   "metadata": {},
   "outputs": [
    {
     "name": "stdout",
     "output_type": "stream",
     "text": [
      "Input sequence length not a multiple of three\n",
      "ATAGTCTAGCTAG--\n"
     ]
    }
   ],
   "source": [
    "my_seq = Seq('ATAGTCTAGCTAG')\n",
    "\n",
    "def check_seqlen(input_seq):\n",
    "    if len(input_seq) %3 != 0:\n",
    "        print('Input sequence length not a multiple of three')\n",
    "        seq_add = len(input_seq) %3\n",
    "        for i in range(0, seq_add + 1):\n",
    "            input_seq = input_seq + '-'\n",
    "    print(input_seq)\n",
    "    \n",
    "check_seqlen(my_seq)"
   ]
  },
  {
   "cell_type": "markdown",
   "metadata": {},
   "source": [
    "### Low complexity regions\n",
    "\n",
    "Regions with low complexity -- high incidences of just one or two nucleotide bases -- are extremely suspect. Usually, they're 'junk' coding regions that don't actually translate to meaningful amino acid bases. As such, bioinformaticians like to identify and flag these regions. We'll be writing a prototype function that scans a sequence and alerts us to regions of the genome with unusually high percentages of certain base pairs. \n",
    "\n",
    "The algorithms generally used for this process are very complex -- here's how we'll design our function to mimic these algos: \n",
    "\n",
    "* determine a window size appropriate to the length of the sequence we're analyzing\n",
    "* scan our sequence using this window\n",
    "* as we're scanning, update the percentage breakdown of each type of nucleotide base\n",
    "* flag the start and stop locations of regions with unacceptably high percentages of certain bases\n",
    "\n",
    "With Gabrielle, you wrote function that returns the percentage composition of a nucleotide sequence. How could you repurpose that here? Hint: sometimes, two functions are better than one. When in doubt, modularize!"
   ]
  },
  {
   "cell_type": "code",
   "execution_count": null,
   "metadata": {},
   "outputs": [],
   "source": [
    "my_seq = 'ATGATCGATCGATGCTAGTAGATAAAAATAAGACTAAC'\n",
    "\n",
    "def percent_sim():\n",
    "    \n",
    "\n",
    "\n",
    "\n",
    "def check_complex(input_seq):\n",
    "    # your code here!\n",
    "    \n",
    "    \n",
    "check_complex(my_seq)\n",
    "\n"
   ]
  }
 ],
 "metadata": {
  "kernelspec": {
   "display_name": "Python 3",
   "language": "python",
   "name": "python3"
  },
  "language_info": {
   "codemirror_mode": {
    "name": "ipython",
    "version": 3
   },
   "file_extension": ".py",
   "mimetype": "text/x-python",
   "name": "python",
   "nbconvert_exporter": "python",
   "pygments_lexer": "ipython3",
   "version": "3.6.5"
  }
 },
 "nbformat": 4,
 "nbformat_minor": 2
}
