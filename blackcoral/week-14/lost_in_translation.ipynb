{
 "cells": [
  {
   "cell_type": "markdown",
   "metadata": {},
   "source": [
    "# Lost (and found!) in translation\n",
    "\n",
    "### From ATCGs to amino acids"
   ]
  },
  {
   "cell_type": "markdown",
   "metadata": {},
   "source": [
    "In past sessions, I've mentioned that corals and anemones use their own translation tables -- namely, the mold and protozoa table. There are some important differences between the standard IUPAC translation table and table 4 (which is how we refer to Mold & Protozoa; there are [31 genetic codes])(https://www.ncbi.nlm.nih.gov/Taxonomy/Utils/wprintgc.cgi)."
   ]
  },
  {
   "cell_type": "markdown",
   "metadata": {},
   "source": [
    "Today, we'll be examining table 4 and building a Python dictionary of nucleotides and amino acids that will allow us to translate our raw nucleotide data into meaningful amino acid data! First, check out table 4, copied below. How do you interpret it?:"
   ]
  },
  {
   "cell_type": "code",
   "execution_count": null,
   "metadata": {},
   "outputs": [],
   "source": [
    "   AAs = FFLLSSSSYY**CCWWLLLLPPPPHHQQRRRRIIIMTTTTNNKKSSRRVVVVAAAADDEEGGGG\n",
    "Starts = --MM---------------M------------MMMM---------------M------------\n",
    " Base1 = TTTTTTTTTTTTTTTTCCCCCCCCCCCCCCCCAAAAAAAAAAAAAAAAGGGGGGGGGGGGGGGG\n",
    " Base2 = TTTTCCCCAAAAGGGGTTTTCCCCAAAAGGGGTTTTCCCCAAAAGGGGTTTTCCCCAAAAGGGG\n",
    " Base3 = TCAGTCAGTCAGTCAGTCAGTCAGTCAGTCAGTCAGTCAGTCAGTCAGTCAGTCAGTCAGTCAG"
   ]
  },
  {
   "cell_type": "markdown",
   "metadata": {},
   "source": [
    "As a fun way to familiarize yourself with these codons and their corresponding proteins, try your hand at decoding the following secret message!:\n",
    "\n",
    "\n",
    "### TAACATGCCCCACCGTAC AATGAATGA TATGAGGCTCGG, TGCAGAGAATGATAG!\n",
    "\n",
    "\n",
    "\n",
    "What is the translated message?:\n",
    "\n"
   ]
  },
  {
   "cell_type": "markdown",
   "metadata": {},
   "source": [
    "Remember what you've learned about Python dictionaries -- would they be a good tool for storing genetic code data? Why or why not?\n",
    "\n",
    "-\n",
    "\n",
    "-\n",
    "\n",
    "-\n"
   ]
  },
  {
   "cell_type": "markdown",
   "metadata": {},
   "source": [
    "Suppose you'd like to construct a dictionary of everyone's name and age, with key-value pairs (age, name). How would you go about doing so? Build this dictionary below:"
   ]
  },
  {
   "cell_type": "code",
   "execution_count": null,
   "metadata": {},
   "outputs": [],
   "source": [
    "name_age = {}\n",
    "\n",
    "names = []\n",
    "ages = []\n",
    "\n",
    "# would it be possible to use a for-loop to populate this dictionary? Why/why not?"
   ]
  },
  {
   "cell_type": "markdown",
   "metadata": {},
   "source": [
    "Applying the same strategy above to our translation question, how would you build a dictionary called __genetic_code__ to store our codons and amino acids? Remember that you have to assemble the three-character string corresponding to each codon. Hint: for-loops would be very useful here. How will you go about reading-in each triplet of bases and its corresponding amino acid?"
   ]
  },
  {
   "cell_type": "code",
   "execution_count": null,
   "metadata": {},
   "outputs": [],
   "source": [
    "## your code below! \n",
    "\n",
    "genetic_code = {}\n"
   ]
  },
  {
   "cell_type": "markdown",
   "metadata": {},
   "source": [
    "Now that you have a means to decipher your genetic data, place your data files into the repo blackcoral > analysis (we'll be placing all our analysis scripts here from now on, for ease of access)."
   ]
  },
  {
   "cell_type": "markdown",
   "metadata": {},
   "source": [
    "You can populate your dictionary in your new data directory, or you can try it here, first (though I'd recommend the former)."
   ]
  }
 ],
 "metadata": {
  "kernelspec": {
   "display_name": "Python 3",
   "language": "python",
   "name": "python3"
  },
  "language_info": {
   "codemirror_mode": {
    "name": "ipython",
    "version": 3
   },
   "file_extension": ".py",
   "mimetype": "text/x-python",
   "name": "python",
   "nbconvert_exporter": "python",
   "pygments_lexer": "ipython3",
   "version": "3.6.5"
  }
 },
 "nbformat": 4,
 "nbformat_minor": 2
}
