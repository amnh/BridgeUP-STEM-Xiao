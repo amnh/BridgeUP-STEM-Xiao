{
 "cells": [
  {
   "cell_type": "markdown",
   "metadata": {},
   "source": [
    "# Week 5: Assembly\n",
    "### applying the lessons of Bikini Bottom"
   ]
  },
  {
   "cell_type": "code",
   "execution_count": 2,
   "metadata": {},
   "outputs": [],
   "source": [
    "import Bio\n",
    "from Bio.Seq import Seq"
   ]
  },
  {
   "cell_type": "markdown",
   "metadata": {},
   "source": [
    "Last session, we observed that 'genome' assembly is greatly aided by context -- while you could've scanned each sentence fragment for overlaps with all other fragments, things moved more quickly once you'd guessed at the content of the text. \n",
    "\n",
    "As we learn about assembly algorithms, we'll be moving into the realm of assembly sans context. "
   ]
  },
  {
   "cell_type": "markdown",
   "metadata": {},
   "source": [
    "Now, recall your thought process at the beginning of the mystery assembly activity. How would you describe it, in detail, to someone who hadn't experienced it for themselves? Write your instructions below: \n",
    "\n",
    "---your instructions below!---\n"
   ]
  },
  {
   "cell_type": "markdown",
   "metadata": {},
   "source": [
    "enter markdown here!\n",
    "%\n",
    "%\n",
    "%\n",
    "%"
   ]
  },
  {
   "cell_type": "markdown",
   "metadata": {},
   "source": [
    "We're going to break this (fairly large) problem into smaller parts. \n",
    "\n",
    "### Assembling two fragments\n",
    "\n",
    "The premise is simple -- given two fragments of DNA which may overlap with one another, how can you determine where/if they should align? As it turns out, there are multiple ways to approach this problem. (Can you think of a few off the top of your head?) There are a few brief exercises below to help you get started:\n",
    "\n"
   ]
  },
  {
   "cell_type": "code",
   "execution_count": 6,
   "metadata": {},
   "outputs": [
    {
     "name": "stdout",
     "output_type": "stream",
     "text": [
      "1\n"
     ]
    }
   ],
   "source": [
    "## the python find() function. What happens when you search a string 'a' for a substring 'b'?\n",
    "\n",
    "a = 'CAAGTGCCC'\n",
    "b = 'AAGT'\n",
    "\n",
    "print(a.find(b))"
   ]
  },
  {
   "cell_type": "code",
   "execution_count": 8,
   "metadata": {},
   "outputs": [
    {
     "name": "stdout",
     "output_type": "stream",
     "text": [
      "6\n"
     ]
    }
   ],
   "source": [
    "## can you find all instances of the first char of 'seq_b' in 'seq_a'? \n",
    "\n",
    "seq_a = 'ATCGATCGG'\n",
    "seq_b = 'CGG'\n",
    "\n",
    "def first_char(a, b):\n",
    "       #your code here!\n",
    "        overlap = a.find(b)\n",
    "        return overlap\n",
    "\n",
    "print(first_char(seq_a, seq_b))"
   ]
  },
  {
   "cell_type": "code",
   "execution_count": null,
   "metadata": {},
   "outputs": [],
   "source": [
    "## pulling it all together -- using your assembly visualizer and the exercises above, how can you write your assembly function?\n",
    "\n",
    "seq_a = ''\n",
    "seq_b = ''\n",
    "\n",
    "def align(a, b):\n",
    "    #your code here!\n",
    "    #first_char(a, b)\n",
    "    #first_char(b, a)\n",
    "    for i in range(0, len(seq_a))\n",
    "    \n",
    "    \n",
    "print(align(seq_a, seq_b))"
   ]
  },
  {
   "cell_type": "markdown",
   "metadata": {},
   "source": [
    "### Assembling three fragments\n",
    "Now that you've got an algorithm that will align two fragments, think about how you can leverage this algo to solve a bigger problem -- aligning three fragments! Can you see any problems with this strategy for approaching the assembly problem? Why or why not? \n"
   ]
  },
  {
   "cell_type": "code",
   "execution_count": 1,
   "metadata": {},
   "outputs": [
    {
     "ename": "IndentationError",
     "evalue": "expected an indented block (<ipython-input-1-7790e2678255>, line 6)",
     "output_type": "error",
     "traceback": [
      "\u001b[0;36m  File \u001b[0;32m\"<ipython-input-1-7790e2678255>\"\u001b[0;36m, line \u001b[0;32m6\u001b[0m\n\u001b[0;31m    three_frags(file)\u001b[0m\n\u001b[0m              ^\u001b[0m\n\u001b[0;31mIndentationError\u001b[0m\u001b[0;31m:\u001b[0m expected an indented block\n"
     ]
    }
   ],
   "source": [
    "def three_frags(input_file):\n",
    "    #your code here!\n",
    "    \n",
    "three_frags(file)"
   ]
  },
  {
   "cell_type": "markdown",
   "metadata": {},
   "source": [
    "### Assembling _n_ fragments\n",
    "\n",
    "Can you scale what you've written to an assembly with _n_ distinct fragments? Why or why not? Hint: this exercise has been a lead-in to a larger lesson about writing effective code and algorithmic efficiency. "
   ]
  },
  {
   "cell_type": "code",
   "execution_count": null,
   "metadata": {},
   "outputs": [],
   "source": []
  }
 ],
 "metadata": {
  "kernelspec": {
   "display_name": "Python 3",
   "language": "python",
   "name": "python3"
  },
  "language_info": {
   "codemirror_mode": {
    "name": "ipython",
    "version": 3
   },
   "file_extension": ".py",
   "mimetype": "text/x-python",
   "name": "python",
   "nbconvert_exporter": "python",
   "pygments_lexer": "ipython3",
   "version": "3.6.4"
  }
 },
 "nbformat": 4,
 "nbformat_minor": 2
}
