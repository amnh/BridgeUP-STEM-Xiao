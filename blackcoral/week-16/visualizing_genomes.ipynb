{
 "cells": [
  {
   "cell_type": "markdown",
   "metadata": {},
   "source": [
    "# Visualizing the Genome\n",
    "### how do we do it?"
   ]
  },
  {
   "cell_type": "markdown",
   "metadata": {},
   "source": [
    "You've seen hundreds of base pairs of genomic data by now -- how can we make sense of it? Early on, we mentioned the importance of AT and GC content -- they're important indicators of where we may or may not have coding regions (remember our discussion about low-complexity regions?). But nucleotide composition is also an important indicator of something called an [origin of replication](https://en.wikipedia.org/wiki/Origin_of_replication)."
   ]
  },
  {
   "cell_type": "markdown",
   "metadata": {},
   "source": [
    "<img src=\"dnawalk.png\">"
   ]
  },
  {
   "cell_type": "markdown",
   "metadata": {},
   "source": [
    "Check out the image of a DNA walk above. You'll notice two important things:\n",
    "- the compass in the upper lefthand corner\n",
    "- the hairpin turns in the DNA\n"
   ]
  },
  {
   "cell_type": "markdown",
   "metadata": {},
   "source": [
    "A DNA walk is exactly what it sounds like -- starting at the first base pair in your sequence, you'll walk 'north', 'south,' 'east,' or 'west' depending on the base pair you've read in. In this case, we have the following directions associated with our nucleotides:\n",
    "\n",
    "- C: north\n",
    "- G: south\n",
    "- A: west\n",
    "- T: east"
   ]
  },
  {
   "cell_type": "markdown",
   "metadata": {},
   "source": [
    "The hairpin turns correspond to regions where we might have origins of replication. So how can we go about producing our own DNA walks? "
   ]
  },
  {
   "cell_type": "markdown",
   "metadata": {},
   "source": [
    "There's a great Python package called [tkinter](https://wiki.python.org/moin/TkInter) for building GUIs. We'll be using it to make a bare-bones visual of our genomic data. Let's play around with tk a bit before building the walker: "
   ]
  },
  {
   "cell_type": "code",
   "execution_count": 5,
   "metadata": {},
   "outputs": [
    {
     "ename": "SyntaxError",
     "evalue": "invalid syntax (<ipython-input-5-c059183538f6>, line 8)",
     "output_type": "error",
     "traceback": [
      "\u001b[0;36m  File \u001b[0;32m\"<ipython-input-5-c059183538f6>\"\u001b[0;36m, line \u001b[0;32m8\u001b[0m\n\u001b[0;31m    canvas.create(x0, y0, x1, y1, fill = '', width = )\u001b[0m\n\u001b[0m                                                     ^\u001b[0m\n\u001b[0;31mSyntaxError\u001b[0m\u001b[0;31m:\u001b[0m invalid syntax\n"
     ]
    }
   ],
   "source": [
    "import tkinter\n",
    "\n",
    "root = tkinter.Tk() #what are you drawing?\n",
    "canvas = tkinter.Canvas(root) #where are you drawing it?\n",
    "canvas.pack()\n",
    "\n",
    "#drawing a line in tkinter:\n",
    "canvas.create(x0, y0, x1, y1, fill = '', width = )\n",
    "\n",
    "\n"
   ]
  },
  {
   "cell_type": "code",
   "execution_count": null,
   "metadata": {},
   "outputs": [],
   "source": [
    "#drawing a shape in tkinter:\n",
    "canvas.create_rectangle(x, x, y, y, fill = '')\n",
    "\n"
   ]
  },
  {
   "cell_type": "code",
   "execution_count": null,
   "metadata": {},
   "outputs": [],
   "source": [
    "#drawing a grid in tkinter:\n",
    "for i in range(num):\n",
    "    #create some lines! "
   ]
  },
  {
   "cell_type": "markdown",
   "metadata": {},
   "source": [
    "Now that you've seen what tkinter can do, think about how you can leverage its abilities to 'walk' through your DNA sequence. At a minimum, all you'll need to do is use the line-drawing function, though we'd like to draw a grid for our walk later, too. "
   ]
  },
  {
   "cell_type": "code",
   "execution_count": 4,
   "metadata": {},
   "outputs": [],
   "source": [
    "#build your own DNA walker below!"
   ]
  },
  {
   "cell_type": "code",
   "execution_count": null,
   "metadata": {},
   "outputs": [],
   "source": []
  }
 ],
 "metadata": {
  "kernelspec": {
   "display_name": "Python 3",
   "language": "python",
   "name": "python3"
  },
  "language_info": {
   "codemirror_mode": {
    "name": "ipython",
    "version": 3
   },
   "file_extension": ".py",
   "mimetype": "text/x-python",
   "name": "python",
   "nbconvert_exporter": "python",
   "pygments_lexer": "ipython3",
   "version": "3.6.5"
  }
 },
 "nbformat": 4,
 "nbformat_minor": 2
}
