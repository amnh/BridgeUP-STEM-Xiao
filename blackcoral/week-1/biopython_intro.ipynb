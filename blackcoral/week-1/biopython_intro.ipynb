{
 "cells": [
  {
   "cell_type": "markdown",
   "metadata": {},
   "source": [
    "# Week 1, Session 2: Biopython! \n",
    "### like Python, but biology \n",
    "<img src=\"bio_logo.png\" width=\"240\" height=\"240\" align=\"left\"/>."
   ]
  },
  {
   "cell_type": "markdown",
   "metadata": {},
   "source": [
    "By now you've used a number of different Python packages -- matplotlib, numpy, pandas. Today, we'll be adding a new tool to your toolbox: __Biopython__! \n",
    "\n",
    "Open Terminal. In your command line, type the following command to install Biopython in Jupyter:"
   ]
  },
  {
   "cell_type": "markdown",
   "metadata": {},
   "source": [
    "`conda install -c anaconda biopython=1.72`"
   ]
  },
  {
   "cell_type": "markdown",
   "metadata": {},
   "source": [
    "Now, run the following cell (what does this do?): "
   ]
  },
  {
   "cell_type": "code",
   "execution_count": 4,
   "metadata": {},
   "outputs": [
    {
     "name": "stdout",
     "output_type": "stream",
     "text": [
      "1.72\n"
     ]
    }
   ],
   "source": [
    "import Bio \n",
    "print(Bio.__version__)"
   ]
  },
  {
   "cell_type": "markdown",
   "metadata": {},
   "source": [
    "Before we take a look at Biopython -- do you remember your transcription and translation functions from your molecular genomics module? Do you think you could write them below without referencing your old notebook? "
   ]
  },
  {
   "cell_type": "code",
   "execution_count": null,
   "metadata": {},
   "outputs": [],
   "source": [
    "## your transcription function here\n",
    "\n"
   ]
  },
  {
   "cell_type": "code",
   "execution_count": null,
   "metadata": {},
   "outputs": [],
   "source": [
    "RNA_codon_table = {\n",
    "# U\n",
    "'UUU': 'F', 'UCU': 'S', 'UAU': 'Y', 'UGU': 'C', # UxU\n",
    "'UUC': 'F', 'UCC': 'S', 'UAC': 'Y', 'UGC': 'C', # UxC\n",
    "'UUA': 'L', 'UCA': 'S', 'UAA': '---', 'UGA': '---', # UxA\n",
    "'UUG': 'L', 'UCG': 'S', 'UAG': '---', 'UGG': 'W', # UxG\n",
    "\n",
    "# C\n",
    "'CUU': 'L', 'CCU': 'P', 'CAU': 'H', 'CGU': 'R', # CxU\n",
    "'CUC': 'L', 'CCC': 'P', 'CAC': 'H', 'CGC': 'R', # CxC\n",
    "'CUA': 'L', 'CCA': 'P', 'CAA': 'Q', 'CGA': 'R', # CxA\n",
    "'CUG': 'L', 'CCG': 'P', 'CAG': 'Q', 'CGG': 'R', # CxG\n",
    "\n",
    "# A\n",
    "'AUU': 'I', 'ACU': 'T', 'AAU': 'N', 'AGU': 'S', # AxU\n",
    "'AUC': 'I', 'ACC': 'T', 'AAC': 'N', 'AGC': 'S', # AxC\n",
    "'AUA': 'I', 'ACA': 'T', 'AAA': 'K', 'AGA': 'R', # AxA\n",
    "'AUG': 'M', 'ACG': 'T', 'AAG': 'K', 'AGG': 'R', # AxG\n",
    "\n",
    "# G\n",
    "'GUU': 'V', 'GCU': 'A', 'GAU': 'D', 'GGU': 'G', # GxU\n",
    "'GUC': 'V', 'GCC': 'A', 'GAC': 'D', 'GGC': 'G', # GxC\n",
    "'GUA': 'V', 'GCA': 'A', 'GAA': 'E', 'GGA': 'G', # GxA\n",
    "'GUG': 'V', 'GCG': 'A', 'GAG': 'E', 'GGG': 'G'  # GxG\n",
    "}\n",
    "\n",
    "\n",
    "singleletter = {'Cys': 'C', 'Asp': 'D', 'Ser': 'S', 'Gln': 'Q', 'Lys': 'K',\n",
    "'Trp': 'W', 'Asn': 'N', 'Pro': 'P', 'Thr': 'T', 'Phe': 'F', 'Ala': 'A',\n",
    "'Gly': 'G', 'Ile': 'I', 'Leu': 'L', 'His': 'H', 'Arg': 'R', 'Met': 'M',\n",
    "'Val': 'V', 'Glu': 'E', 'Tyr': 'Y', '---': '*'}\n",
    "\n",
    "## your translation function here\n",
    "\n"
   ]
  },
  {
   "cell_type": "markdown",
   "metadata": {},
   "source": [
    "Biopython has lots of functions that are tailored to bioinformatic analysis -- functions like the ones you wrote above are built-in! We'll explore some Biopython functions for sequence and FASTA file manipulation today. "
   ]
  },
  {
   "cell_type": "markdown",
   "metadata": {},
   "source": [
    "### Sequences in Biopython\n",
    "\n",
    "Before we get started, run the following cell:"
   ]
  },
  {
   "cell_type": "code",
   "execution_count": 33,
   "metadata": {},
   "outputs": [],
   "source": [
    "from Bio.Seq import Seq"
   ]
  },
  {
   "cell_type": "markdown",
   "metadata": {},
   "source": [
    "In the following cell, define a my_seq variable with a nucleotide sequence of your choice. "
   ]
  },
  {
   "cell_type": "code",
   "execution_count": 34,
   "metadata": {},
   "outputs": [],
   "source": [
    "my_seq = Seq('#your sequence here!')"
   ]
  },
  {
   "cell_type": "markdown",
   "metadata": {},
   "source": [
    "`my_seq` is a __sequence object__, something unique to this package. Remember that it's not a string -- it's better! There are tons of cool properties unique to a sequence object. Try the following commands with your `my_seq` object (use the new cell below this one!):\n",
    "\n",
    "* complement()\n",
    "* reverse_complement()\n",
    "* alphabet  # note that there are no parens after this command!\n",
    "* find()  # type a substring that you know you've got in `my_seq`\n",
    "* count()\n",
    "* transcribe()\n",
    "* translate()\n"
   ]
  },
  {
   "cell_type": "code",
   "execution_count": 31,
   "metadata": {},
   "outputs": [],
   "source": [
    "# your my_seq sandbox!\n",
    "#save the commands you type here -- you might want to reference them for syntax at a later date!\n",
    "\n",
    "\n"
   ]
  },
  {
   "cell_type": "markdown",
   "metadata": {},
   "source": [
    "### the FASTA file format\n",
    "\n",
    "FASTA stands for fast-A (I know, I was disappointed, too) because it works for *all* alphabets. There are also FAST-P (for proteins) and FAST-N (for nucleotides) file formats. You might've already seen these files in your molecular genomics unit. If not, here's a refresher:"
   ]
  },
  {
   "cell_type": "markdown",
   "metadata": {},
   "source": [
    "#### a sample FASTA file entry: \n",
    "\n",
    "\\> NC_000933.1:2331-3119 Metridium senile mitochondrion, complete genome\n",
    "ATGAAATCTACTGTTTATCATCCCTATCATTTAGTAGACCCCAGCCCTTGGCCCTACGTAGGAGCTTGCGGAGCTCTTTTTATAACTGTAGGAAGTGTCGTATATTTTCATTATAGTCAAACTTGAGTTTTATTGATGGGGGCTATTACCCTTAGTTTAACTATGATAGTTTGGTGGAGAGATGTAATAAGAGAAGCTACTTTCCAAGGTCTTCATACCATGGTTGTAAAACAAGGTTTAAAATATGGAATGCTCCTATTTATCCTTTCTGAAGTC..."
   ]
  },
  {
   "cell_type": "markdown",
   "metadata": {},
   "source": [
    "The first line of any entry is descriptive and should be human-readable. In the above, we're looking at part of a gene from the mitogenome of *Metridium senile*, a sea anemone. \"NC_000933.1\" is the accession number in [GenBank](https://www.ncbi.nlm.nih.gov/nuccore/6137781/) for this anemone, and 2331-3119 are the base pairs over which this gene is defined. "
   ]
  },
  {
   "cell_type": "markdown",
   "metadata": {},
   "source": [
    "Now, let's try some Biopython commands for handling FASTA files. Run the cell below:"
   ]
  },
  {
   "cell_type": "code",
   "execution_count": 44,
   "metadata": {},
   "outputs": [],
   "source": [
    "from Bio import SeqIO"
   ]
  },
  {
   "cell_type": "markdown",
   "metadata": {},
   "source": [
    "#### reading files \n",
    "\n",
    "What if I want to read the first record in my file? The last sequence? The first five? All of them? "
   ]
  },
  {
   "cell_type": "code",
   "execution_count": 46,
   "metadata": {},
   "outputs": [
    {
     "name": "stdout",
     "output_type": "stream",
     "text": [
      "2175\n"
     ]
    }
   ],
   "source": [
    "for seq_record in list(SeqIO.parse('bathypathes.fas', 'fasta'))[:]:\n",
    "    #print(seq_record)\n",
    "    #print(repr(seq_record.seq))\n",
    "    #print(len(seq_record))"
   ]
  },
  {
   "cell_type": "markdown",
   "metadata": {},
   "source": [
    "Note that the `seq_record` object includes everything in a single entry -- the descriptor as well as the sequence itself. To access the descriptor, use `seq_record.id`. To access the sequence itself, use `seq_record.seq`.\n",
    "\n",
    "Let's combine the commands we've just seen. How would you print the transcriptions and translations of each sequence in bathypathes.fas? What must be true in order for your translation to work? "
   ]
  },
  {
   "cell_type": "code",
   "execution_count": 52,
   "metadata": {},
   "outputs": [
    {
     "name": "stdout",
     "output_type": "stream",
     "text": [
      "RRLG*GRPLAFKAKSVGSSPAPP\n",
      "IELPTLSLFILAAQKRGSGHSAESGLKYFVLGALSSGLFLFGCALLCGLTGGASIPCIDLVLNQGVSQTLNSAVNQVGDPSGVMTPIGSLLITIALLFKLSAAPFHMWAPDVYDGAPTTTTALLATVPKVAIFSILVSIGPVVNLLLIGAVFSMVVGAIGALNQTKVKRLLAYSGIGHMGFVLWGIEIGSFESVLASLIYMILYVTMSICIFAILLALGVVKNLIVEFSGLSRREPVLALTLALTLLSIAGIPPLVGFLSK*LVLLSGVVYQYYLVSILAVICSVVAGVYYVRIVKIIYFQANSSLLIGPKTLKKENRVNLRKSLLIGASLYPIG\n"
     ]
    },
    {
     "name": "stderr",
     "output_type": "stream",
     "text": [
      "/Users/madelyne/anaconda3/lib/python3.6/site-packages/Bio/Seq.py:2576: BiopythonWarning: Partial codon, len(sequence) not a multiple of three. Explicitly trim the sequence or add trailing N before translation. This may become an error in future.\n",
      "  BiopythonWarning)\n"
     ]
    },
    {
     "ename": "TranslationError",
     "evalue": "Codon '>RR' is invalid",
     "output_type": "error",
     "traceback": [
      "\u001b[0;31m---------------------------------------------------------------------------\u001b[0m",
      "\u001b[0;31mKeyError\u001b[0m                                  Traceback (most recent call last)",
      "\u001b[0;32m~/anaconda3/lib/python3.6/site-packages/Bio/Data/CodonTable.py\u001b[0m in \u001b[0;36m__getitem__\u001b[0;34m(self, codon)\u001b[0m\n\u001b[1;32m    398\u001b[0m                                               \u001b[0mself\u001b[0m\u001b[0;34m.\u001b[0m\u001b[0mforward_table\u001b[0m\u001b[0;34m,\u001b[0m\u001b[0;34m\u001b[0m\u001b[0m\n\u001b[0;32m--> 399\u001b[0;31m                                               self.ambiguous_nucleotide)\n\u001b[0m\u001b[1;32m    400\u001b[0m         \u001b[0;32mexcept\u001b[0m \u001b[0mKeyError\u001b[0m\u001b[0;34m:\u001b[0m\u001b[0;34m\u001b[0m\u001b[0m\n",
      "\u001b[0;32m~/anaconda3/lib/python3.6/site-packages/Bio/Data/CodonTable.py\u001b[0m in \u001b[0;36mlist_possible_proteins\u001b[0;34m(codon, forward_table, ambiguous_nucleotide_values)\u001b[0m\n\u001b[1;32m    213\u001b[0m     \u001b[0mc1\u001b[0m\u001b[0;34m,\u001b[0m \u001b[0mc2\u001b[0m\u001b[0;34m,\u001b[0m \u001b[0mc3\u001b[0m \u001b[0;34m=\u001b[0m \u001b[0mcodon\u001b[0m\u001b[0;34m\u001b[0m\u001b[0m\n\u001b[0;32m--> 214\u001b[0;31m     \u001b[0mx1\u001b[0m \u001b[0;34m=\u001b[0m \u001b[0mambiguous_nucleotide_values\u001b[0m\u001b[0;34m[\u001b[0m\u001b[0mc1\u001b[0m\u001b[0;34m]\u001b[0m\u001b[0;34m\u001b[0m\u001b[0m\n\u001b[0m\u001b[1;32m    215\u001b[0m     \u001b[0mx2\u001b[0m \u001b[0;34m=\u001b[0m \u001b[0mambiguous_nucleotide_values\u001b[0m\u001b[0;34m[\u001b[0m\u001b[0mc2\u001b[0m\u001b[0;34m]\u001b[0m\u001b[0;34m\u001b[0m\u001b[0m\n",
      "\u001b[0;31mKeyError\u001b[0m: '>'",
      "\nDuring handling of the above exception, another exception occurred:\n",
      "\u001b[0;31mKeyError\u001b[0m                                  Traceback (most recent call last)",
      "\u001b[0;32m~/anaconda3/lib/python3.6/site-packages/Bio/Seq.py\u001b[0m in \u001b[0;36m_translate_str\u001b[0;34m(sequence, table, stop_symbol, to_stop, cds, pos_stop, gap)\u001b[0m\n\u001b[1;32m   2587\u001b[0m         \u001b[0;32mtry\u001b[0m\u001b[0;34m:\u001b[0m\u001b[0;34m\u001b[0m\u001b[0m\n\u001b[0;32m-> 2588\u001b[0;31m             \u001b[0mamino_acids\u001b[0m\u001b[0;34m.\u001b[0m\u001b[0mappend\u001b[0m\u001b[0;34m(\u001b[0m\u001b[0mforward_table\u001b[0m\u001b[0;34m[\u001b[0m\u001b[0mcodon\u001b[0m\u001b[0;34m]\u001b[0m\u001b[0;34m)\u001b[0m\u001b[0;34m\u001b[0m\u001b[0m\n\u001b[0m\u001b[1;32m   2589\u001b[0m         \u001b[0;32mexcept\u001b[0m \u001b[0;34m(\u001b[0m\u001b[0mKeyError\u001b[0m\u001b[0;34m,\u001b[0m \u001b[0mCodonTable\u001b[0m\u001b[0;34m.\u001b[0m\u001b[0mTranslationError\u001b[0m\u001b[0;34m)\u001b[0m\u001b[0;34m:\u001b[0m\u001b[0;34m\u001b[0m\u001b[0m\n",
      "\u001b[0;32m~/anaconda3/lib/python3.6/site-packages/Bio/Data/CodonTable.py\u001b[0m in \u001b[0;36m__getitem__\u001b[0;34m(self, codon)\u001b[0m\n\u001b[1;32m    401\u001b[0m             \u001b[0mself\u001b[0m\u001b[0;34m.\u001b[0m\u001b[0m_cache\u001b[0m\u001b[0;34m[\u001b[0m\u001b[0mcodon\u001b[0m\u001b[0;34m]\u001b[0m \u001b[0;34m=\u001b[0m \u001b[0mKeyError\u001b[0m\u001b[0;34m\u001b[0m\u001b[0m\n\u001b[0;32m--> 402\u001b[0;31m             \u001b[0;32mraise\u001b[0m \u001b[0mKeyError\u001b[0m\u001b[0;34m(\u001b[0m\u001b[0mcodon\u001b[0m\u001b[0;34m)\u001b[0m  \u001b[0;31m# stop codon\u001b[0m\u001b[0;34m\u001b[0m\u001b[0m\n\u001b[0m\u001b[1;32m    403\u001b[0m         \u001b[0;32mexcept\u001b[0m \u001b[0mTranslationError\u001b[0m\u001b[0;34m:\u001b[0m\u001b[0;34m\u001b[0m\u001b[0m\n",
      "\u001b[0;31mKeyError\u001b[0m: '>RR'",
      "\nDuring handling of the above exception, another exception occurred:\n",
      "\u001b[0;31mTranslationError\u001b[0m                          Traceback (most recent call last)",
      "\u001b[0;32m<ipython-input-52-6cb29f2cc779>\u001b[0m in \u001b[0;36m<module>\u001b[0;34m()\u001b[0m\n\u001b[1;32m      3\u001b[0m \u001b[0;32mfor\u001b[0m \u001b[0mseq_record\u001b[0m \u001b[0;32min\u001b[0m \u001b[0mlist\u001b[0m\u001b[0;34m(\u001b[0m\u001b[0mSeqIO\u001b[0m\u001b[0;34m.\u001b[0m\u001b[0mparse\u001b[0m\u001b[0;34m(\u001b[0m\u001b[0;34m'bathypathes.fas'\u001b[0m\u001b[0;34m,\u001b[0m \u001b[0;34m'fasta'\u001b[0m\u001b[0;34m)\u001b[0m\u001b[0;34m)\u001b[0m\u001b[0;34m[\u001b[0m\u001b[0;34m:\u001b[0m\u001b[0;34m]\u001b[0m\u001b[0;34m:\u001b[0m\u001b[0;34m\u001b[0m\u001b[0m\n\u001b[1;32m      4\u001b[0m     \u001b[0;31m#print(seq_record.translate())\u001b[0m\u001b[0;34m\u001b[0m\u001b[0;34m\u001b[0m\u001b[0m\n\u001b[0;32m----> 5\u001b[0;31m     \u001b[0mprint\u001b[0m\u001b[0;34m(\u001b[0m\u001b[0mseq_record\u001b[0m\u001b[0;34m.\u001b[0m\u001b[0mseq\u001b[0m\u001b[0;34m.\u001b[0m\u001b[0mtranslate\u001b[0m\u001b[0;34m(\u001b[0m\u001b[0;34m)\u001b[0m\u001b[0;34m)\u001b[0m\u001b[0;34m\u001b[0m\u001b[0m\n\u001b[0m",
      "\u001b[0;32m~/anaconda3/lib/python3.6/site-packages/Bio/Seq.py\u001b[0m in \u001b[0;36mtranslate\u001b[0;34m(self, table, stop_symbol, to_stop, cds, gap)\u001b[0m\n\u001b[1;32m   1161\u001b[0m \u001b[0;34m\u001b[0m\u001b[0m\n\u001b[1;32m   1162\u001b[0m         protein = _translate_str(str(self), codon_table, stop_symbol, to_stop,\n\u001b[0;32m-> 1163\u001b[0;31m                                  cds, gap=gap)\n\u001b[0m\u001b[1;32m   1164\u001b[0m \u001b[0;34m\u001b[0m\u001b[0m\n\u001b[1;32m   1165\u001b[0m         \u001b[0;32mif\u001b[0m \u001b[0mgap\u001b[0m \u001b[0;32mand\u001b[0m \u001b[0mgap\u001b[0m \u001b[0;32min\u001b[0m \u001b[0mprotein\u001b[0m\u001b[0;34m:\u001b[0m\u001b[0;34m\u001b[0m\u001b[0m\n",
      "\u001b[0;32m~/anaconda3/lib/python3.6/site-packages/Bio/Seq.py\u001b[0m in \u001b[0;36m_translate_str\u001b[0;34m(sequence, table, stop_symbol, to_stop, cds, pos_stop, gap)\u001b[0m\n\u001b[1;32m   2603\u001b[0m             \u001b[0;32melse\u001b[0m\u001b[0;34m:\u001b[0m\u001b[0;34m\u001b[0m\u001b[0m\n\u001b[1;32m   2604\u001b[0m                 raise CodonTable.TranslationError(\n\u001b[0;32m-> 2605\u001b[0;31m                     \"Codon '{0}' is invalid\".format(codon))\n\u001b[0m\u001b[1;32m   2606\u001b[0m     \u001b[0;32mreturn\u001b[0m \u001b[0;34m\"\"\u001b[0m\u001b[0;34m.\u001b[0m\u001b[0mjoin\u001b[0m\u001b[0;34m(\u001b[0m\u001b[0mamino_acids\u001b[0m\u001b[0;34m)\u001b[0m\u001b[0;34m\u001b[0m\u001b[0m\n\u001b[1;32m   2607\u001b[0m \u001b[0;34m\u001b[0m\u001b[0m\n",
      "\u001b[0;31mTranslationError\u001b[0m: Codon '>RR' is invalid"
     ]
    }
   ],
   "source": [
    "\n",
    "for seq_record in list(SeqIO.parse('bathypathes.fas', 'fasta'))[:]:\n",
    "    ## your code here!\n",
    "    "
   ]
  },
  {
   "cell_type": "markdown",
   "metadata": {},
   "source": [
    "How would I fetch the description of the fifth sequence? "
   ]
  },
  {
   "cell_type": "code",
   "execution_count": 53,
   "metadata": {},
   "outputs": [
    {
     "ename": "AttributeError",
     "evalue": "'str' object has no attribute 'seq'",
     "output_type": "error",
     "traceback": [
      "\u001b[0;31m---------------------------------------------------------------------------\u001b[0m",
      "\u001b[0;31mAttributeError\u001b[0m                            Traceback (most recent call last)",
      "\u001b[0;32m<ipython-input-53-5f604c513fa1>\u001b[0m in \u001b[0;36m<module>\u001b[0;34m()\u001b[0m\n\u001b[1;32m      2\u001b[0m \u001b[0;34m\u001b[0m\u001b[0m\n\u001b[1;32m      3\u001b[0m \u001b[0;32mfor\u001b[0m \u001b[0mseq_record\u001b[0m \u001b[0;32min\u001b[0m \u001b[0mlist\u001b[0m\u001b[0;34m(\u001b[0m\u001b[0mSeqIO\u001b[0m\u001b[0;34m.\u001b[0m\u001b[0mparse\u001b[0m\u001b[0;34m(\u001b[0m\u001b[0;34m'bathypathes.fas'\u001b[0m\u001b[0;34m,\u001b[0m \u001b[0;34m'fasta'\u001b[0m\u001b[0;34m)\u001b[0m\u001b[0;34m)\u001b[0m\u001b[0;34m[\u001b[0m\u001b[0;36m5\u001b[0m\u001b[0;34m]\u001b[0m\u001b[0;34m:\u001b[0m\u001b[0;34m\u001b[0m\u001b[0m\n\u001b[0;32m----> 4\u001b[0;31m     \u001b[0mprint\u001b[0m\u001b[0;34m(\u001b[0m\u001b[0mseq_record\u001b[0m\u001b[0;34m.\u001b[0m\u001b[0mseq\u001b[0m\u001b[0;34m[\u001b[0m\u001b[0;36m0\u001b[0m\u001b[0;34m:\u001b[0m\u001b[0;36m3\u001b[0m\u001b[0;34m]\u001b[0m\u001b[0;34m)\u001b[0m\u001b[0;34m\u001b[0m\u001b[0m\n\u001b[0m",
      "\u001b[0;31mAttributeError\u001b[0m: 'str' object has no attribute 'seq'"
     ]
    }
   ],
   "source": [
    "## your code here!\n",
    "\n"
   ]
  },
  {
   "cell_type": "markdown",
   "metadata": {},
   "source": [
    "How would I fetch the first three nucleotides of the fifth sequence? "
   ]
  },
  {
   "cell_type": "code",
   "execution_count": null,
   "metadata": {},
   "outputs": [],
   "source": [
    "## your code here!\n",
    "\n"
   ]
  },
  {
   "cell_type": "markdown",
   "metadata": {},
   "source": [
    "__Challenge__ (to do if you complete everything else!): write a Python function that determines how many sequences in your FASTA file start with 'ATG'. "
   ]
  },
  {
   "cell_type": "code",
   "execution_count": null,
   "metadata": {},
   "outputs": [],
   "source": [
    "## your code here!\n",
    "\n"
   ]
  }
 ],
 "metadata": {
  "kernelspec": {
   "display_name": "Python 3",
   "language": "python",
   "name": "python3"
  },
  "language_info": {
   "codemirror_mode": {
    "name": "ipython",
    "version": 3
   },
   "file_extension": ".py",
   "mimetype": "text/x-python",
   "name": "python",
   "nbconvert_exporter": "python",
   "pygments_lexer": "ipython3",
   "version": "3.6.5"
  }
 },
 "nbformat": 4,
 "nbformat_minor": 2
}
