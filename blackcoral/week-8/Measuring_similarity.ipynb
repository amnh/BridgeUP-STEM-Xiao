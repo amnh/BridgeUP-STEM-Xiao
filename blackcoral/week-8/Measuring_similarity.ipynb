{
 "cells": [
  {
   "cell_type": "markdown",
   "metadata": {},
   "source": [
    "# Week 8: Measuring similarity\n",
    "\n",
    "### how do you do it?"
   ]
  },
  {
   "cell_type": "markdown",
   "metadata": {},
   "source": [
    "Biology has, until fairly recently, been a very qualitative science. Computational and statistical methods are changing that, however -- we can build phylogenies based on genomic data instead of observations of physical characteristics. What's more, we can quantify how confident we are in the trees we build. We'll discuss a few of these methods for measuring similarity in the context of biology. "
   ]
  },
  {
   "cell_type": "markdown",
   "metadata": {},
   "source": [
    "### \"I've got confidence in confidence...\" \n",
    "        -- Maria von Trapp"
   ]
  },
  {
   "cell_type": "markdown",
   "metadata": {},
   "source": [
    "So you've just completed your first few BLAST searches -- with our FASTA output file in hand, we'll complete a very _familiar_ first comparison algo in our pairs. "
   ]
  },
  {
   "cell_type": "markdown",
   "metadata": {},
   "source": [
    "### Hamming distance\n",
    "Remember the sequence comparison function you wrote with Gabrielle in your molecular genomics unit? That's a classic [__Hamming__](https://en.wikipedia.org/wiki/Hamming_distance) algorithm. In the cell below, jog your memory + write out that function. It should return the __percentage similarity__ between both sequences!"
   ]
  },
  {
   "cell_type": "code",
   "execution_count": 1,
   "metadata": {},
   "outputs": [
    {
     "ename": "SyntaxError",
     "evalue": "unexpected EOF while parsing (<ipython-input-1-686f87b3505b>, line 4)",
     "output_type": "error",
     "traceback": [
      "\u001b[0;36m  File \u001b[0;32m\"<ipython-input-1-686f87b3505b>\"\u001b[0;36m, line \u001b[0;32m4\u001b[0m\n\u001b[0;31m    \u001b[0m\n\u001b[0m    ^\u001b[0m\n\u001b[0;31mSyntaxError\u001b[0m\u001b[0;31m:\u001b[0m unexpected EOF while parsing\n"
     ]
    }
   ],
   "source": [
    "def hamming_dist(seq1, seq2):\n",
    "    #your code here!\n",
    "    \n",
    "    "
   ]
  },
  {
   "cell_type": "markdown",
   "metadata": {},
   "source": [
    "### Edit distance\n",
    "This is a hot problem right now in theoretical computer science, as it's got tons of applications to non-biological problems, too! Edit distance is like hamming distance's older cousin -- what if we've got a single insertion or deletion in our nucleotide sequence? Our entire comparison would be thrown off when, in reality, we only had a single mutated base! Edit distance takes this into account by tallying the number of insertions, deletions, etc need to transform one sequence into another. Try your hand at this comparison technique with the following problem from [Rosalind](http://rosalind.info/problems/edit/). For the sake of record-keeping, feel free to copy your code below when you're done:"
   ]
  },
  {
   "cell_type": "code",
   "execution_count": null,
   "metadata": {},
   "outputs": [],
   "source": [
    "def edit_dist(seq1, seq2):\n",
    "    #your code here!\n",
    "    "
   ]
  },
  {
   "cell_type": "markdown",
   "metadata": {},
   "source": [
    "### e-values"
   ]
  },
  {
   "cell_type": "markdown",
   "metadata": {},
   "source": [
    "...sound more complex than they really are. In short: an e-value measures the number of hits you'd expect to see _by chance_ when you run a BLAST query on a database. WARNING: they are _not_ probabilities -- they're expected values. Because they measure the number of hits you'd expect to see from a given database, this number might increase with the size of the database. A statistician might say that the e-value is a measure of __noise__ in your database. "
   ]
  },
  {
   "cell_type": "markdown",
   "metadata": {},
   "source": [
    "Can you locate the e values for your BLAST searches on your two mystery files? What are they? Are they 'good' or 'bad'? (and how do you know?)\n",
    "\n",
    "\n",
    "\n"
   ]
  },
  {
   "cell_type": "markdown",
   "metadata": {},
   "source": [
    "### Genetic distance\n",
    "This is a tricky one -- and one of the most useful for understanding phylogenetics! While the previous methods we've discussed for measuring similarity rely on a by-base-pair analysis of the sequences in question, genetic distance calls on some [__pretty gnarly formulas__](https://en.wikipedia.org/wiki/Genetic_distance) to get the job done. The idea is to measure gene __loci__ to track things like __genetic drift__ and other origins of biodiversity.\n",
    "\n",
    "\n",
    "\n",
    "Take a look at the following documentation for Biopython's genetic distance package: http://biopython.org/DIST/docs/api/Bio.Phylo.TreeConstruction.DistanceCalculator-class.html"
   ]
  },
  {
   "cell_type": "markdown",
   "metadata": {},
   "source": [
    "Based on the example in the documentation, how would you script a command to build a distance matrix for our FASTA alignment file? Import all required packages at the top of your document. Also: remember that file format is important (wink wink, nudge nudge)!"
   ]
  },
  {
   "cell_type": "code",
   "execution_count": null,
   "metadata": {},
   "outputs": [],
   "source": [
    "## your distance matrix code below!"
   ]
  }
 ],
 "metadata": {
  "kernelspec": {
   "display_name": "Python 3",
   "language": "python",
   "name": "python3"
  },
  "language_info": {
   "codemirror_mode": {
    "name": "ipython",
    "version": 3
   },
   "file_extension": ".py",
   "mimetype": "text/x-python",
   "name": "python",
   "nbconvert_exporter": "python",
   "pygments_lexer": "ipython3",
   "version": "3.6.5"
  }
 },
 "nbformat": 4,
 "nbformat_minor": 2
}
