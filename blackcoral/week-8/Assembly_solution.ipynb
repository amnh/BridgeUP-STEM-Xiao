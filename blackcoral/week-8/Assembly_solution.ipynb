{
 "cells": [
  {
   "cell_type": "markdown",
   "metadata": {},
   "source": [
    "# Assembly solutions\n",
    "\n",
    "### so many ways to put the pieces together!"
   ]
  },
  {
   "cell_type": "markdown",
   "metadata": {},
   "source": [
    "It's the moment you've been waiting for! How, exactly, do we go about assembling two nucleotide sequences? We'll discuss our pair-solutions before coming up with a solution together..."
   ]
  },
  {
   "cell_type": "markdown",
   "metadata": {},
   "source": [
    "YOUR SOLUTION: how would you summarize your approach to someone who doesn't know anything about biology or computer science? Jot down your ideas here: \n",
    "\n",
    "--------------------------------------------------\n"
   ]
  },
  {
   "cell_type": "markdown",
   "metadata": {},
   "source": [
    "How would you translate these ideas to pseudocode? Write a pseudocode outline of your algorithm below:\n",
    "\n",
    "--------------------------------------------------\n"
   ]
  },
  {
   "cell_type": "markdown",
   "metadata": {},
   "source": [
    "OUR SOLUTION (as a bonus, read your fragments from a FASTA file using BioPython -- do this after you've completed the main body of the algorithm!): "
   ]
  },
  {
   "cell_type": "code",
   "execution_count": 2,
   "metadata": {},
   "outputs": [
    {
     "ename": "IndentationError",
     "evalue": "expected an indented block (<ipython-input-2-db1e00f7c23c>, line 8)",
     "output_type": "error",
     "traceback": [
      "\u001b[0;36m  File \u001b[0;32m\"<ipython-input-2-db1e00f7c23c>\"\u001b[0;36m, line \u001b[0;32m8\u001b[0m\n\u001b[0;31m    assemble(str1, str2)\u001b[0m\n\u001b[0m           ^\u001b[0m\n\u001b[0;31mIndentationError\u001b[0m\u001b[0;31m:\u001b[0m expected an indented block\n"
     ]
    }
   ],
   "source": [
    "str2 = 'ATGCG'\n",
    "str1 = 'TGC'\n",
    "\n",
    "\n",
    "def assemble(seq1, seq2): \n",
    "##code here!\n",
    "\n",
    "assemble(str1, str2)"
   ]
  },
  {
   "cell_type": "markdown",
   "metadata": {},
   "source": [
    "What if we wanted to assemble 3 fragments? How could we call on our function for two fragments to accomplish this?"
   ]
  },
  {
   "cell_type": "code",
   "execution_count": null,
   "metadata": {},
   "outputs": [],
   "source": []
  }
 ],
 "metadata": {
  "kernelspec": {
   "display_name": "Python 3",
   "language": "python",
   "name": "python3"
  },
  "language_info": {
   "codemirror_mode": {
    "name": "ipython",
    "version": 3
   },
   "file_extension": ".py",
   "mimetype": "text/x-python",
   "name": "python",
   "nbconvert_exporter": "python",
   "pygments_lexer": "ipython3",
   "version": "3.6.5"
  }
 },
 "nbformat": 4,
 "nbformat_minor": 2
}
