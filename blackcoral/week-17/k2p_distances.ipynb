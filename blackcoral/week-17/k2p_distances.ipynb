{
 "cells": [
  {
   "cell_type": "markdown",
   "metadata": {},
   "source": [
    "## Kimura-2-parameter (K2P) distances\n",
    "\n",
    "#### and you thought you'd seen the last of distance metrics... "
   ]
  },
  {
   "cell_type": "markdown",
   "metadata": {},
   "source": [
    "Can you recall what methods we've used to compare gene sequences in the past? Jot them down here:\n",
    "\n",
    "- \n",
    "- \n",
    "- \n"
   ]
  },
  {
   "cell_type": "markdown",
   "metadata": {},
   "source": [
    "Today, we'll be discussing a different method for measuring genetic similarity. Kimura-2-parameter distances take into account the type of base pair that is being subbed. Whereas, before, we weighted all differences equally, K2P makes some important distinctions. \n",
    "\n",
    "Before: A to G and G to A, or T to C and C to T weighted equally\n",
    "\n",
    "Now: A / G to T / C weighted more heavily than A to G or T to C\n",
    "\n"
   ]
  },
  {
   "cell_type": "markdown",
   "metadata": {},
   "source": [
    "Note that substitutions from A to G are called __transitions__ and T to C substitutions are called __transversions__. On the whole, __transversions__ are rarer than __transitions__ and are therefore weighted more heavily. This makes sense -- it's easier for a purine to sub for another purine than it is for a pyrimidine to appear where we should have a purine! It's also why this distance metric is called __2-parameter__. Our previous metric was 1-parameter. "
   ]
  },
  {
   "cell_type": "markdown",
   "metadata": {},
   "source": [
    "Don't be fazed by the following description of Kimura-2-parameter -- we'll walk through it, and you'll see that it makes a lot of sense!\n"
   ]
  },
  {
   "cell_type": "markdown",
   "metadata": {},
   "source": [
    "$\\text{Defn of Kimura-2-parameter distance estimation method}$: \n",
    "\n",
    "If we have that \n",
    "\n",
    "$$P = \\dfrac{\\text{transitions}}{\\text{positions scored}}$$\n",
    "\n",
    "$$Q = \\dfrac{\\text{transversions}}{\\text{positions scored}},$$ \n",
    "\n",
    "then\n",
    "\n",
    "$$distance = -\\frac{1}{2} \\ln[ (1 - 2P - Q) * \\sqrt{1 - 2Q} ].$$"
   ]
  },
  {
   "cell_type": "code",
   "execution_count": 1,
   "metadata": {},
   "outputs": [],
   "source": [
    "## write a function that takes as input two sequences and returns a K2P \n",
    "## score based on the weighting described above. We'll do this in parts!\n",
    "## Before you begin coding, make a list of the variables you'll need \n",
    "## in your function. \n",
    "\n",
    "## vars list:\n",
    "#\n",
    "#\n",
    "#\n",
    "\n",
    "\n"
   ]
  },
  {
   "cell_type": "code",
   "execution_count": null,
   "metadata": {},
   "outputs": [],
   "source": [
    "## calculate your P and Q scores:\n",
    "P = 0\n",
    "Q = 0"
   ]
  },
  {
   "cell_type": "code",
   "execution_count": 2,
   "metadata": {},
   "outputs": [],
   "source": [
    "## write the body of the actual distance function below:\n",
    "\n"
   ]
  },
  {
   "cell_type": "code",
   "execution_count": 3,
   "metadata": {},
   "outputs": [],
   "source": [
    "## tying it all together:\n",
    "\n",
    "def k2p(seq1, seqw):\n",
    "\n",
    "    \n",
    "    return score"
   ]
  },
  {
   "cell_type": "code",
   "execution_count": null,
   "metadata": {},
   "outputs": [],
   "source": []
  }
 ],
 "metadata": {
  "kernelspec": {
   "display_name": "Python 3",
   "language": "python",
   "name": "python3"
  },
  "language_info": {
   "codemirror_mode": {
    "name": "ipython",
    "version": 3
   },
   "file_extension": ".py",
   "mimetype": "text/x-python",
   "name": "python",
   "nbconvert_exporter": "python",
   "pygments_lexer": "ipython3",
   "version": "3.6.5"
  }
 },
 "nbformat": 4,
 "nbformat_minor": 2
}
