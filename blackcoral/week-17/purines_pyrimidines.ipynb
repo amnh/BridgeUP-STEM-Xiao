{
 "cells": [
  {
   "cell_type": "markdown",
   "metadata": {},
   "source": [
    "## Purines and Pyrimidines \n",
    "#### making sense of them!"
   ]
  },
  {
   "cell_type": "markdown",
   "metadata": {},
   "source": [
    "What's a purine, and what's a pyrimidine? Some quick facts: \n",
    "\n",
    "- purines are organic compounds. They're water soluble and actually consist of a pyrimidine fused to imidazole (another organic compound) ring\n",
    "- purines include adenine (A) and guanine (G)\n",
    "- pyrimidines are also organic compounds.\n",
    "- pyrimidines include cytosine (C), uracil (U), and thymine (T)\n",
    "- purines bind to pyrimidines in DNA!\n"
   ]
  },
  {
   "cell_type": "markdown",
   "metadata": {},
   "source": [
    "How frequently these bases appear in our DNA sequences tells us a lot -- for instance, which DNA strand are we working with? There are two strands in mtDNA, which we refer to as __heavy__ or __light__ strands. __Heavy__ strands have greater proportions of purines, which have higher molecular weight. Because purines pair with pyrimidines, this means that the other strand is lighter in comparison. "
   ]
  },
  {
   "cell_type": "code",
   "execution_count": 1,
   "metadata": {},
   "outputs": [
    {
     "ename": "SyntaxError",
     "evalue": "unexpected EOF while parsing (<ipython-input-1-85a7ae9f67e4>, line 7)",
     "output_type": "error",
     "traceback": [
      "\u001b[0;36m  File \u001b[0;32m\"<ipython-input-1-85a7ae9f67e4>\"\u001b[0;36m, line \u001b[0;32m7\u001b[0m\n\u001b[0;31m    \u001b[0m\n\u001b[0m    ^\u001b[0m\n\u001b[0;31mSyntaxError\u001b[0m\u001b[0;31m:\u001b[0m unexpected EOF while parsing\n"
     ]
    }
   ],
   "source": [
    "## Your turn! Code up a function that determines whether your sequences \n",
    "## were taken from the heavy or light strand. Think carefully about where \n",
    "## you'd draw the line for determining which strand is significantly \n",
    "## lighter or heavier -- 50/50? 40/60? \n",
    "\n",
    "def heavy_light():\n",
    "    \n"
   ]
  },
  {
   "cell_type": "markdown",
   "metadata": {},
   "source": [
    "Just as our DNA walk told us a good deal about origins of replication, overall proportions of purine and pyrimidines (or purine/pyrimidine __skew__) can tell us a lot about the DNA we're working with. The following is a formula for calculating GC skew:"
   ]
  },
  {
   "cell_type": "markdown",
   "metadata": {},
   "source": [
    "\n",
    "$$skew_{G,C} = \\frac{G - C}{G + C} $$"
   ]
  },
  {
   "cell_type": "markdown",
   "metadata": {},
   "source": [
    "So it makes sense that the formula for calculating AT skew is as follows:"
   ]
  },
  {
   "cell_type": "markdown",
   "metadata": {},
   "source": [
    "$$skew_{A,T} = \\frac{A - T}{A + T} $$"
   ]
  },
  {
   "cell_type": "markdown",
   "metadata": {},
   "source": [
    "...where A, T, G, and C represent the number of appearances of each base in the sequence you're working with. These skew values are vital to determining where our replication origins lie, and can also tell you whether you're working with the leading or lagging strand of your DNA. For more, here's Khan Academy: https://www.khanacademy.org/science/high-school-biology/hs-molecular-genetics/hs-discovery-and-structure-of-dna/v/leading-and-lagging-strands-in-dna-replication "
   ]
  },
  {
   "cell_type": "code",
   "execution_count": 2,
   "metadata": {},
   "outputs": [
    {
     "ename": "IndentationError",
     "evalue": "expected an indented block (<ipython-input-2-10e81970aa8a>, line 7)",
     "output_type": "error",
     "traceback": [
      "\u001b[0;36m  File \u001b[0;32m\"<ipython-input-2-10e81970aa8a>\"\u001b[0;36m, line \u001b[0;32m7\u001b[0m\n\u001b[0;31m    def CT_skew():\u001b[0m\n\u001b[0m      ^\u001b[0m\n\u001b[0;31mIndentationError\u001b[0m\u001b[0;31m:\u001b[0m expected an indented block\n"
     ]
    }
   ],
   "source": [
    "## Your turn! Code your own skew function:\n",
    "\n",
    "def AG_skew():\n",
    "    \n",
    "    \n",
    "\n",
    "def CT_skew():\n",
    "    \n"
   ]
  },
  {
   "cell_type": "markdown",
   "metadata": {},
   "source": []
  }
 ],
 "metadata": {
  "kernelspec": {
   "display_name": "Python 3",
   "language": "python",
   "name": "python3"
  },
  "language_info": {
   "codemirror_mode": {
    "name": "ipython",
    "version": 3
   },
   "file_extension": ".py",
   "mimetype": "text/x-python",
   "name": "python",
   "nbconvert_exporter": "python",
   "pygments_lexer": "ipython3",
   "version": "3.6.5"
  }
 },
 "nbformat": 4,
 "nbformat_minor": 2
}
